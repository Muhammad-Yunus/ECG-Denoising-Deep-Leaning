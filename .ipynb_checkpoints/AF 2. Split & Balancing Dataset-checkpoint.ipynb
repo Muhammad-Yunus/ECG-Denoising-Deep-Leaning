{
 "cells": [
  {
   "cell_type": "markdown",
   "metadata": {},
   "source": [
    "# Load dataset\n",
    "\n",
    "**record name , balanced sample**\n",
    "- record 04015 -> 400\n",
    "- record 04043 -> 1000\n",
    "- record 04048 -> 900\n",
    "- record 04908 -> tidak bisa di split karena hanya AF\n",
    "- record 04936 -> 2000\n",
    "- record 05091 -> 1000, class 0 29\n",
    "- record 05121 -> 1000, class 0, 150\n",
    "- record 05261 -> 1000, class 0 105\n",
    "- record 06426 -> 2000\n",
    "- record 06453 -> 300\n",
    "- record 06995 -> 900\n",
    "- record 07910 -> 320\n",
    "- record 08215 -> 400\n",
    "- record 08219 -> 5000\n",
    "- record 08378 -> 220\n",
    "- record 08455 -> 90"
   ]
  },
  {
   "cell_type": "code",
   "execution_count": 1,
   "metadata": {},
   "outputs": [],
   "source": [
    "import os\n",
    "\n",
    "dataset_folder = 'dataset/'\n",
    "filenames = []\n",
    "for filename in os.listdir(dataset_folder):\n",
    "    if filename.find('sequence') > -1 :\n",
    "        filenames.append(filename)"
   ]
  },
  {
   "cell_type": "markdown",
   "metadata": {},
   "source": [
    "- Change this parameter"
   ]
  },
  {
   "cell_type": "code",
   "execution_count": 2,
   "metadata": {},
   "outputs": [],
   "source": [
    "record = \"08219\"\n",
    "n_samples = 5000"
   ]
  },
  {
   "cell_type": "code",
   "execution_count": 3,
   "metadata": {},
   "outputs": [
    {
     "data": {
      "text/plain": [
       "['AFDB_04015_sequence_300_pt_2_ch.csv',\n",
       " 'AFDB_04043_sequence_300_pt_2_ch.csv',\n",
       " 'AFDB_04048_sequence_300_pt_2_ch.csv',\n",
       " 'AFDB_04126_sequence_300_pt_2_ch.csv',\n",
       " 'AFDB_04908_sequence_300_pt_2_ch.csv',\n",
       " 'AFDB_04936_sequence_300_pt_2_ch.csv',\n",
       " 'AFDB_05091_sequence_300_pt_2_ch.csv',\n",
       " 'AFDB_05121_sequence_300_pt_2_ch.csv',\n",
       " 'AFDB_05261_sequence_300_pt_2_ch.csv',\n",
       " 'AFDB_06426_sequence_300_pt_2_ch.csv',\n",
       " 'AFDB_06453_sequence_300_pt_2_ch.csv',\n",
       " 'AFDB_06995_sequence_300_pt_2_ch.csv',\n",
       " 'AFDB_07910_sequence_300_pt_2_ch.csv',\n",
       " 'AFDB_08215_sequence_300_pt_2_ch.csv',\n",
       " 'AFDB_08219_sequence_300_pt_2_ch.csv',\n",
       " 'AFDB_08378_sequence_300_pt_2_ch.csv',\n",
       " 'AFDB_08455_sequence_300_pt_2_ch.csv']"
      ]
     },
     "execution_count": 3,
     "metadata": {},
     "output_type": "execute_result"
    }
   ],
   "source": [
    "filenames"
   ]
  },
  {
   "cell_type": "code",
   "execution_count": 4,
   "metadata": {},
   "outputs": [],
   "source": [
    "import pandas as pd\n",
    "import numpy as np \n",
    "import matplotlib.pyplot as plt\n",
    "\n",
    "from sklearn.preprocessing import LabelEncoder\n",
    "from sklearn.model_selection import train_test_split"
   ]
  },
  {
   "cell_type": "markdown",
   "metadata": {},
   "source": [
    "- Split Dataset"
   ]
  },
  {
   "cell_type": "code",
   "execution_count": 5,
   "metadata": {},
   "outputs": [],
   "source": [
    "ecg_df = pd.read_csv(dataset_folder + 'AFDB_%s_sequence_300_pt_2_ch.csv' % record, header=None)"
   ]
  },
  {
   "cell_type": "code",
   "execution_count": 6,
   "metadata": {},
   "outputs": [
    {
     "data": {
      "text/html": [
       "<div>\n",
       "<style scoped>\n",
       "    .dataframe tbody tr th:only-of-type {\n",
       "        vertical-align: middle;\n",
       "    }\n",
       "\n",
       "    .dataframe tbody tr th {\n",
       "        vertical-align: top;\n",
       "    }\n",
       "\n",
       "    .dataframe thead th {\n",
       "        text-align: right;\n",
       "    }\n",
       "</style>\n",
       "<table border=\"1\" class=\"dataframe\">\n",
       "  <thead>\n",
       "    <tr style=\"text-align: right;\">\n",
       "      <th></th>\n",
       "      <th>0</th>\n",
       "      <th>1</th>\n",
       "      <th>2</th>\n",
       "      <th>3</th>\n",
       "      <th>4</th>\n",
       "      <th>5</th>\n",
       "      <th>6</th>\n",
       "      <th>7</th>\n",
       "      <th>8</th>\n",
       "      <th>9</th>\n",
       "      <th>...</th>\n",
       "      <th>591</th>\n",
       "      <th>592</th>\n",
       "      <th>593</th>\n",
       "      <th>594</th>\n",
       "      <th>595</th>\n",
       "      <th>596</th>\n",
       "      <th>597</th>\n",
       "      <th>598</th>\n",
       "      <th>599</th>\n",
       "      <th>600</th>\n",
       "    </tr>\n",
       "  </thead>\n",
       "  <tbody>\n",
       "    <tr>\n",
       "      <th>0</th>\n",
       "      <td>0.038446</td>\n",
       "      <td>0.007393</td>\n",
       "      <td>-0.003616</td>\n",
       "      <td>0.025408</td>\n",
       "      <td>0.044496</td>\n",
       "      <td>0.033664</td>\n",
       "      <td>0.012900</td>\n",
       "      <td>0.012186</td>\n",
       "      <td>0.001543</td>\n",
       "      <td>-0.019030</td>\n",
       "      <td>...</td>\n",
       "      <td>0.0</td>\n",
       "      <td>0.0</td>\n",
       "      <td>0.0</td>\n",
       "      <td>0.0</td>\n",
       "      <td>0.0</td>\n",
       "      <td>0.0</td>\n",
       "      <td>0.0</td>\n",
       "      <td>0.0</td>\n",
       "      <td>0.0</td>\n",
       "      <td>N</td>\n",
       "    </tr>\n",
       "    <tr>\n",
       "      <th>1</th>\n",
       "      <td>0.036473</td>\n",
       "      <td>0.042433</td>\n",
       "      <td>0.108505</td>\n",
       "      <td>0.124751</td>\n",
       "      <td>0.171114</td>\n",
       "      <td>0.187625</td>\n",
       "      <td>0.204254</td>\n",
       "      <td>0.191012</td>\n",
       "      <td>0.197857</td>\n",
       "      <td>0.234771</td>\n",
       "      <td>...</td>\n",
       "      <td>0.0</td>\n",
       "      <td>0.0</td>\n",
       "      <td>0.0</td>\n",
       "      <td>0.0</td>\n",
       "      <td>0.0</td>\n",
       "      <td>0.0</td>\n",
       "      <td>0.0</td>\n",
       "      <td>0.0</td>\n",
       "      <td>0.0</td>\n",
       "      <td>N</td>\n",
       "    </tr>\n",
       "    <tr>\n",
       "      <th>2</th>\n",
       "      <td>0.711799</td>\n",
       "      <td>0.564295</td>\n",
       "      <td>0.246370</td>\n",
       "      <td>-0.042155</td>\n",
       "      <td>-0.231378</td>\n",
       "      <td>-0.291370</td>\n",
       "      <td>-0.242149</td>\n",
       "      <td>-0.213635</td>\n",
       "      <td>-0.035914</td>\n",
       "      <td>0.071193</td>\n",
       "      <td>...</td>\n",
       "      <td>0.0</td>\n",
       "      <td>0.0</td>\n",
       "      <td>0.0</td>\n",
       "      <td>0.0</td>\n",
       "      <td>0.0</td>\n",
       "      <td>0.0</td>\n",
       "      <td>0.0</td>\n",
       "      <td>0.0</td>\n",
       "      <td>0.0</td>\n",
       "      <td>N</td>\n",
       "    </tr>\n",
       "    <tr>\n",
       "      <th>3</th>\n",
       "      <td>0.732149</td>\n",
       "      <td>0.515718</td>\n",
       "      <td>0.128778</td>\n",
       "      <td>-0.098938</td>\n",
       "      <td>-0.257436</td>\n",
       "      <td>-0.316788</td>\n",
       "      <td>-0.257034</td>\n",
       "      <td>-0.168117</td>\n",
       "      <td>-0.069999</td>\n",
       "      <td>0.097325</td>\n",
       "      <td>...</td>\n",
       "      <td>0.0</td>\n",
       "      <td>0.0</td>\n",
       "      <td>0.0</td>\n",
       "      <td>0.0</td>\n",
       "      <td>0.0</td>\n",
       "      <td>0.0</td>\n",
       "      <td>0.0</td>\n",
       "      <td>0.0</td>\n",
       "      <td>0.0</td>\n",
       "      <td>N</td>\n",
       "    </tr>\n",
       "    <tr>\n",
       "      <th>4</th>\n",
       "      <td>0.643835</td>\n",
       "      <td>0.427859</td>\n",
       "      <td>0.051279</td>\n",
       "      <td>-0.226132</td>\n",
       "      <td>-0.354470</td>\n",
       "      <td>-0.343772</td>\n",
       "      <td>-0.214035</td>\n",
       "      <td>-0.095157</td>\n",
       "      <td>0.032893</td>\n",
       "      <td>0.190156</td>\n",
       "      <td>...</td>\n",
       "      <td>0.0</td>\n",
       "      <td>0.0</td>\n",
       "      <td>0.0</td>\n",
       "      <td>0.0</td>\n",
       "      <td>0.0</td>\n",
       "      <td>0.0</td>\n",
       "      <td>0.0</td>\n",
       "      <td>0.0</td>\n",
       "      <td>0.0</td>\n",
       "      <td>N</td>\n",
       "    </tr>\n",
       "  </tbody>\n",
       "</table>\n",
       "<p>5 rows × 601 columns</p>\n",
       "</div>"
      ],
      "text/plain": [
       "        0         1         2         3         4         5         6    \\\n",
       "0  0.038446  0.007393 -0.003616  0.025408  0.044496  0.033664  0.012900   \n",
       "1  0.036473  0.042433  0.108505  0.124751  0.171114  0.187625  0.204254   \n",
       "2  0.711799  0.564295  0.246370 -0.042155 -0.231378 -0.291370 -0.242149   \n",
       "3  0.732149  0.515718  0.128778 -0.098938 -0.257436 -0.316788 -0.257034   \n",
       "4  0.643835  0.427859  0.051279 -0.226132 -0.354470 -0.343772 -0.214035   \n",
       "\n",
       "        7         8         9    ...  591  592  593  594  595  596  597  598  \\\n",
       "0  0.012186  0.001543 -0.019030  ...  0.0  0.0  0.0  0.0  0.0  0.0  0.0  0.0   \n",
       "1  0.191012  0.197857  0.234771  ...  0.0  0.0  0.0  0.0  0.0  0.0  0.0  0.0   \n",
       "2 -0.213635 -0.035914  0.071193  ...  0.0  0.0  0.0  0.0  0.0  0.0  0.0  0.0   \n",
       "3 -0.168117 -0.069999  0.097325  ...  0.0  0.0  0.0  0.0  0.0  0.0  0.0  0.0   \n",
       "4 -0.095157  0.032893  0.190156  ...  0.0  0.0  0.0  0.0  0.0  0.0  0.0  0.0   \n",
       "\n",
       "   599  600  \n",
       "0  0.0    N  \n",
       "1  0.0    N  \n",
       "2  0.0    N  \n",
       "3  0.0    N  \n",
       "4  0.0    N  \n",
       "\n",
       "[5 rows x 601 columns]"
      ]
     },
     "execution_count": 6,
     "metadata": {},
     "output_type": "execute_result"
    }
   ],
   "source": [
    "ecg_df.head()"
   ]
  },
  {
   "cell_type": "code",
   "execution_count": 7,
   "metadata": {},
   "outputs": [
    {
     "name": "stdout",
     "output_type": "stream",
     "text": [
      " categorical label :  ['AF' 'N']\n"
     ]
    }
   ],
   "source": [
    "X = ecg_df.iloc[:,:600].values\n",
    "    \n",
    "y = ecg_df.iloc[:,600].values\n",
    "\n",
    "le = LabelEncoder()\n",
    "le.fit(y)\n",
    "\n",
    "labels = le.classes_\n",
    "print(\" categorical label : \", labels)\n",
    "\n",
    "y = le.transform(y)"
   ]
  },
  {
   "cell_type": "code",
   "execution_count": 8,
   "metadata": {},
   "outputs": [],
   "source": [
    "X_train, X_test, y_train, y_test = train_test_split(\n",
    "                                    X, y, test_size=0.33, random_state=42)"
   ]
  },
  {
   "cell_type": "code",
   "execution_count": 9,
   "metadata": {},
   "outputs": [],
   "source": [
    "train_df = pd.DataFrame(np.hstack((X_train, np.expand_dims(y_train, 1))))\n",
    "test_df = pd.DataFrame(np.hstack((X_test, np.expand_dims(y_test, 1))))"
   ]
  },
  {
   "cell_type": "markdown",
   "metadata": {},
   "source": [
    "- 1 sequence terdiri dari 600 titik data , kolom terakhir merupakan label untuk tiap sequence"
   ]
  },
  {
   "cell_type": "code",
   "execution_count": 10,
   "metadata": {},
   "outputs": [
    {
     "data": {
      "text/html": [
       "<div>\n",
       "<style scoped>\n",
       "    .dataframe tbody tr th:only-of-type {\n",
       "        vertical-align: middle;\n",
       "    }\n",
       "\n",
       "    .dataframe tbody tr th {\n",
       "        vertical-align: top;\n",
       "    }\n",
       "\n",
       "    .dataframe thead th {\n",
       "        text-align: right;\n",
       "    }\n",
       "</style>\n",
       "<table border=\"1\" class=\"dataframe\">\n",
       "  <thead>\n",
       "    <tr style=\"text-align: right;\">\n",
       "      <th></th>\n",
       "      <th>0</th>\n",
       "      <th>1</th>\n",
       "      <th>2</th>\n",
       "      <th>3</th>\n",
       "      <th>4</th>\n",
       "      <th>5</th>\n",
       "      <th>6</th>\n",
       "      <th>7</th>\n",
       "      <th>8</th>\n",
       "      <th>9</th>\n",
       "      <th>...</th>\n",
       "      <th>591</th>\n",
       "      <th>592</th>\n",
       "      <th>593</th>\n",
       "      <th>594</th>\n",
       "      <th>595</th>\n",
       "      <th>596</th>\n",
       "      <th>597</th>\n",
       "      <th>598</th>\n",
       "      <th>599</th>\n",
       "      <th>600</th>\n",
       "    </tr>\n",
       "  </thead>\n",
       "  <tbody>\n",
       "    <tr>\n",
       "      <th>0</th>\n",
       "      <td>0.569557</td>\n",
       "      <td>0.459127</td>\n",
       "      <td>0.232839</td>\n",
       "      <td>-0.042002</td>\n",
       "      <td>-0.182629</td>\n",
       "      <td>-0.237196</td>\n",
       "      <td>-0.234597</td>\n",
       "      <td>-0.126726</td>\n",
       "      <td>-0.009785</td>\n",
       "      <td>0.097013</td>\n",
       "      <td>...</td>\n",
       "      <td>0.0</td>\n",
       "      <td>0.0</td>\n",
       "      <td>0.0</td>\n",
       "      <td>0.0</td>\n",
       "      <td>0.0</td>\n",
       "      <td>0.0</td>\n",
       "      <td>0.0</td>\n",
       "      <td>0.0</td>\n",
       "      <td>0.0</td>\n",
       "      <td>0.0</td>\n",
       "    </tr>\n",
       "    <tr>\n",
       "      <th>1</th>\n",
       "      <td>0.450124</td>\n",
       "      <td>0.559121</td>\n",
       "      <td>0.684079</td>\n",
       "      <td>0.816912</td>\n",
       "      <td>0.764266</td>\n",
       "      <td>0.663038</td>\n",
       "      <td>0.513187</td>\n",
       "      <td>0.242172</td>\n",
       "      <td>0.002992</td>\n",
       "      <td>-0.156074</td>\n",
       "      <td>...</td>\n",
       "      <td>0.0</td>\n",
       "      <td>0.0</td>\n",
       "      <td>0.0</td>\n",
       "      <td>0.0</td>\n",
       "      <td>0.0</td>\n",
       "      <td>0.0</td>\n",
       "      <td>0.0</td>\n",
       "      <td>0.0</td>\n",
       "      <td>0.0</td>\n",
       "      <td>0.0</td>\n",
       "    </tr>\n",
       "    <tr>\n",
       "      <th>2</th>\n",
       "      <td>0.736228</td>\n",
       "      <td>0.554561</td>\n",
       "      <td>0.139672</td>\n",
       "      <td>-0.229423</td>\n",
       "      <td>-0.320217</td>\n",
       "      <td>-0.326562</td>\n",
       "      <td>-0.256222</td>\n",
       "      <td>-0.085921</td>\n",
       "      <td>0.114612</td>\n",
       "      <td>0.260154</td>\n",
       "      <td>...</td>\n",
       "      <td>0.0</td>\n",
       "      <td>0.0</td>\n",
       "      <td>0.0</td>\n",
       "      <td>0.0</td>\n",
       "      <td>0.0</td>\n",
       "      <td>0.0</td>\n",
       "      <td>0.0</td>\n",
       "      <td>0.0</td>\n",
       "      <td>0.0</td>\n",
       "      <td>1.0</td>\n",
       "    </tr>\n",
       "    <tr>\n",
       "      <th>3</th>\n",
       "      <td>0.430054</td>\n",
       "      <td>0.588598</td>\n",
       "      <td>0.746916</td>\n",
       "      <td>0.879289</td>\n",
       "      <td>0.882918</td>\n",
       "      <td>0.792020</td>\n",
       "      <td>0.615118</td>\n",
       "      <td>0.215145</td>\n",
       "      <td>-0.056835</td>\n",
       "      <td>-0.226564</td>\n",
       "      <td>...</td>\n",
       "      <td>0.0</td>\n",
       "      <td>0.0</td>\n",
       "      <td>0.0</td>\n",
       "      <td>0.0</td>\n",
       "      <td>0.0</td>\n",
       "      <td>0.0</td>\n",
       "      <td>0.0</td>\n",
       "      <td>0.0</td>\n",
       "      <td>0.0</td>\n",
       "      <td>0.0</td>\n",
       "    </tr>\n",
       "    <tr>\n",
       "      <th>4</th>\n",
       "      <td>0.788000</td>\n",
       "      <td>0.612365</td>\n",
       "      <td>0.293449</td>\n",
       "      <td>-0.092770</td>\n",
       "      <td>-0.299221</td>\n",
       "      <td>-0.373487</td>\n",
       "      <td>-0.268070</td>\n",
       "      <td>-0.182574</td>\n",
       "      <td>-0.040925</td>\n",
       "      <td>0.080885</td>\n",
       "      <td>...</td>\n",
       "      <td>0.0</td>\n",
       "      <td>0.0</td>\n",
       "      <td>0.0</td>\n",
       "      <td>0.0</td>\n",
       "      <td>0.0</td>\n",
       "      <td>0.0</td>\n",
       "      <td>0.0</td>\n",
       "      <td>0.0</td>\n",
       "      <td>0.0</td>\n",
       "      <td>1.0</td>\n",
       "    </tr>\n",
       "  </tbody>\n",
       "</table>\n",
       "<p>5 rows × 601 columns</p>\n",
       "</div>"
      ],
      "text/plain": [
       "        0         1         2         3         4         5         6    \\\n",
       "0  0.569557  0.459127  0.232839 -0.042002 -0.182629 -0.237196 -0.234597   \n",
       "1  0.450124  0.559121  0.684079  0.816912  0.764266  0.663038  0.513187   \n",
       "2  0.736228  0.554561  0.139672 -0.229423 -0.320217 -0.326562 -0.256222   \n",
       "3  0.430054  0.588598  0.746916  0.879289  0.882918  0.792020  0.615118   \n",
       "4  0.788000  0.612365  0.293449 -0.092770 -0.299221 -0.373487 -0.268070   \n",
       "\n",
       "        7         8         9    ...  591  592  593  594  595  596  597  598  \\\n",
       "0 -0.126726 -0.009785  0.097013  ...  0.0  0.0  0.0  0.0  0.0  0.0  0.0  0.0   \n",
       "1  0.242172  0.002992 -0.156074  ...  0.0  0.0  0.0  0.0  0.0  0.0  0.0  0.0   \n",
       "2 -0.085921  0.114612  0.260154  ...  0.0  0.0  0.0  0.0  0.0  0.0  0.0  0.0   \n",
       "3  0.215145 -0.056835 -0.226564  ...  0.0  0.0  0.0  0.0  0.0  0.0  0.0  0.0   \n",
       "4 -0.182574 -0.040925  0.080885  ...  0.0  0.0  0.0  0.0  0.0  0.0  0.0  0.0   \n",
       "\n",
       "   599  600  \n",
       "0  0.0  0.0  \n",
       "1  0.0  0.0  \n",
       "2  0.0  1.0  \n",
       "3  0.0  0.0  \n",
       "4  0.0  1.0  \n",
       "\n",
       "[5 rows x 601 columns]"
      ]
     },
     "execution_count": 10,
     "metadata": {},
     "output_type": "execute_result"
    }
   ],
   "source": [
    "train_df.head()"
   ]
  },
  {
   "cell_type": "markdown",
   "metadata": {},
   "source": [
    "## Balancing Dataset\n",
    "Untuk kebutuhan training model, kita akan atur agar sample tiap class memiliki proporsi yang sama."
   ]
  },
  {
   "cell_type": "code",
   "execution_count": 11,
   "metadata": {},
   "outputs": [
    {
     "name": "stdout",
     "output_type": "stream",
     "text": [
      "0    5014\n",
      "1    1529\n",
      "Name: 600, dtype: int64\n"
     ]
    }
   ],
   "source": [
    "#print dataset distribution\n",
    "\n",
    "train_df[600]=train_df[600].astype(int)\n",
    "equilibre=train_df[600].value_counts()\n",
    "\n",
    "print(equilibre)"
   ]
  },
  {
   "cell_type": "markdown",
   "metadata": {},
   "source": [
    "- Terlihat jika tiap katerogi memiliki jumlah sample yang berbeda."
   ]
  },
  {
   "cell_type": "code",
   "execution_count": 12,
   "metadata": {},
   "outputs": [
    {
     "data": {
      "image/png": "[encoded data removed]",
      "text/plain": [
       "<Figure size 1440x720 with 1 Axes>"
      ]
     },
     "metadata": {},
     "output_type": "display_data"
    }
   ],
   "source": [
    "plt.figure(figsize=(20,10))\n",
    "\n",
    "my_circle = plt.Circle( (0,0), 0.7, color='white')\n",
    "plt.pie(equilibre, \n",
    "        labels=labels, \n",
    "        colors=['red','green'],\n",
    "        autopct='%1.1f%%')\n",
    "\n",
    "p = plt.gcf()\n",
    "p.gca().add_artist(my_circle)\n",
    "plt.show()"
   ]
  },
  {
   "cell_type": "markdown",
   "metadata": {},
   "source": [
    "- kita akan membuat seluruh class memiliki jumlah sample sebanyak 20000. \n",
    "- Sehingga untuk class `0` yang memiliki sample 72471, akan dilakukan pemilihan acak sebanyak 20000 dengan menggunakan Pandas Dataframe `.sample()`.\n",
    "- Untuk class lainya, karena dibawah 20000 sample, akan diterapkan proses upsampling menjadi 20000 sample menggunakan sklearn `resample()`."
   ]
  },
  {
   "cell_type": "code",
   "execution_count": 13,
   "metadata": {},
   "outputs": [],
   "source": [
    "# sampling and resampling dataset\n",
    "\n",
    "from sklearn.utils import resample\n",
    "#n_samples = 1000 \n",
    "random_states = [42, 123]\n",
    "\n",
    "dfs = []\n",
    "\n",
    "for i in range(len(equilibre)):\n",
    "    dfs.append(train_df[train_df[600]==i])\n",
    "    if(equilibre[i] > n_samples) :\n",
    "        dfs[i]=dfs[i].sample(n=n_samples ,random_state=random_states[i])\n",
    "    else :\n",
    "        dfs[i]=resample(dfs[i],replace=True,n_samples=n_samples,random_state=random_states[i])\n",
    "\n",
    "train_df=pd.concat(dfs)"
   ]
  },
  {
   "cell_type": "code",
   "execution_count": 14,
   "metadata": {},
   "outputs": [
    {
     "data": {
      "text/html": [
       "<div>\n",
       "<style scoped>\n",
       "    .dataframe tbody tr th:only-of-type {\n",
       "        vertical-align: middle;\n",
       "    }\n",
       "\n",
       "    .dataframe tbody tr th {\n",
       "        vertical-align: top;\n",
       "    }\n",
       "\n",
       "    .dataframe thead th {\n",
       "        text-align: right;\n",
       "    }\n",
       "</style>\n",
       "<table border=\"1\" class=\"dataframe\">\n",
       "  <thead>\n",
       "    <tr style=\"text-align: right;\">\n",
       "      <th></th>\n",
       "      <th>0</th>\n",
       "      <th>1</th>\n",
       "      <th>2</th>\n",
       "      <th>3</th>\n",
       "      <th>4</th>\n",
       "      <th>5</th>\n",
       "      <th>6</th>\n",
       "      <th>7</th>\n",
       "      <th>8</th>\n",
       "      <th>9</th>\n",
       "      <th>...</th>\n",
       "      <th>591</th>\n",
       "      <th>592</th>\n",
       "      <th>593</th>\n",
       "      <th>594</th>\n",
       "      <th>595</th>\n",
       "      <th>596</th>\n",
       "      <th>597</th>\n",
       "      <th>598</th>\n",
       "      <th>599</th>\n",
       "      <th>600</th>\n",
       "    </tr>\n",
       "  </thead>\n",
       "  <tbody>\n",
       "    <tr>\n",
       "      <th>6363</th>\n",
       "      <td>0.733520</td>\n",
       "      <td>0.615917</td>\n",
       "      <td>0.395148</td>\n",
       "      <td>0.103302</td>\n",
       "      <td>-0.124708</td>\n",
       "      <td>-0.205382</td>\n",
       "      <td>-0.177314</td>\n",
       "      <td>-0.181905</td>\n",
       "      <td>-0.116327</td>\n",
       "      <td>0.032292</td>\n",
       "      <td>...</td>\n",
       "      <td>0.0</td>\n",
       "      <td>0.0</td>\n",
       "      <td>0.0</td>\n",
       "      <td>0.0</td>\n",
       "      <td>0.0</td>\n",
       "      <td>0.0</td>\n",
       "      <td>0.0</td>\n",
       "      <td>0.0</td>\n",
       "      <td>0.0</td>\n",
       "      <td>0</td>\n",
       "    </tr>\n",
       "    <tr>\n",
       "      <th>1394</th>\n",
       "      <td>0.845020</td>\n",
       "      <td>0.696005</td>\n",
       "      <td>0.488991</td>\n",
       "      <td>0.185654</td>\n",
       "      <td>-0.127960</td>\n",
       "      <td>-0.317965</td>\n",
       "      <td>-0.298304</td>\n",
       "      <td>-0.269907</td>\n",
       "      <td>-0.146658</td>\n",
       "      <td>0.023644</td>\n",
       "      <td>...</td>\n",
       "      <td>0.0</td>\n",
       "      <td>0.0</td>\n",
       "      <td>0.0</td>\n",
       "      <td>0.0</td>\n",
       "      <td>0.0</td>\n",
       "      <td>0.0</td>\n",
       "      <td>0.0</td>\n",
       "      <td>0.0</td>\n",
       "      <td>0.0</td>\n",
       "      <td>0</td>\n",
       "    </tr>\n",
       "    <tr>\n",
       "      <th>4182</th>\n",
       "      <td>0.748740</td>\n",
       "      <td>0.589092</td>\n",
       "      <td>0.355618</td>\n",
       "      <td>0.056416</td>\n",
       "      <td>-0.153712</td>\n",
       "      <td>-0.299269</td>\n",
       "      <td>-0.217290</td>\n",
       "      <td>-0.193040</td>\n",
       "      <td>-0.120555</td>\n",
       "      <td>0.040944</td>\n",
       "      <td>...</td>\n",
       "      <td>0.0</td>\n",
       "      <td>0.0</td>\n",
       "      <td>0.0</td>\n",
       "      <td>0.0</td>\n",
       "      <td>0.0</td>\n",
       "      <td>0.0</td>\n",
       "      <td>0.0</td>\n",
       "      <td>0.0</td>\n",
       "      <td>0.0</td>\n",
       "      <td>0</td>\n",
       "    </tr>\n",
       "    <tr>\n",
       "      <th>3791</th>\n",
       "      <td>0.903181</td>\n",
       "      <td>0.827454</td>\n",
       "      <td>0.550248</td>\n",
       "      <td>0.176088</td>\n",
       "      <td>-0.085922</td>\n",
       "      <td>-0.219747</td>\n",
       "      <td>-0.257613</td>\n",
       "      <td>-0.215631</td>\n",
       "      <td>-0.109892</td>\n",
       "      <td>0.011358</td>\n",
       "      <td>...</td>\n",
       "      <td>0.0</td>\n",
       "      <td>0.0</td>\n",
       "      <td>0.0</td>\n",
       "      <td>0.0</td>\n",
       "      <td>0.0</td>\n",
       "      <td>0.0</td>\n",
       "      <td>0.0</td>\n",
       "      <td>0.0</td>\n",
       "      <td>0.0</td>\n",
       "      <td>0</td>\n",
       "    </tr>\n",
       "    <tr>\n",
       "      <th>5754</th>\n",
       "      <td>0.628868</td>\n",
       "      <td>0.436932</td>\n",
       "      <td>0.151908</td>\n",
       "      <td>-0.066323</td>\n",
       "      <td>-0.251488</td>\n",
       "      <td>-0.277373</td>\n",
       "      <td>-0.270267</td>\n",
       "      <td>-0.112325</td>\n",
       "      <td>0.036545</td>\n",
       "      <td>0.134289</td>\n",
       "      <td>...</td>\n",
       "      <td>0.0</td>\n",
       "      <td>0.0</td>\n",
       "      <td>0.0</td>\n",
       "      <td>0.0</td>\n",
       "      <td>0.0</td>\n",
       "      <td>0.0</td>\n",
       "      <td>0.0</td>\n",
       "      <td>0.0</td>\n",
       "      <td>0.0</td>\n",
       "      <td>0</td>\n",
       "    </tr>\n",
       "  </tbody>\n",
       "</table>\n",
       "<p>5 rows × 601 columns</p>\n",
       "</div>"
      ],
      "text/plain": [
       "           0         1         2         3         4         5         6    \\\n",
       "6363  0.733520  0.615917  0.395148  0.103302 -0.124708 -0.205382 -0.177314   \n",
       "1394  0.845020  0.696005  0.488991  0.185654 -0.127960 -0.317965 -0.298304   \n",
       "4182  0.748740  0.589092  0.355618  0.056416 -0.153712 -0.299269 -0.217290   \n",
       "3791  0.903181  0.827454  0.550248  0.176088 -0.085922 -0.219747 -0.257613   \n",
       "5754  0.628868  0.436932  0.151908 -0.066323 -0.251488 -0.277373 -0.270267   \n",
       "\n",
       "           7         8         9    ...  591  592  593  594  595  596  597  \\\n",
       "6363 -0.181905 -0.116327  0.032292  ...  0.0  0.0  0.0  0.0  0.0  0.0  0.0   \n",
       "1394 -0.269907 -0.146658  0.023644  ...  0.0  0.0  0.0  0.0  0.0  0.0  0.0   \n",
       "4182 -0.193040 -0.120555  0.040944  ...  0.0  0.0  0.0  0.0  0.0  0.0  0.0   \n",
       "3791 -0.215631 -0.109892  0.011358  ...  0.0  0.0  0.0  0.0  0.0  0.0  0.0   \n",
       "5754 -0.112325  0.036545  0.134289  ...  0.0  0.0  0.0  0.0  0.0  0.0  0.0   \n",
       "\n",
       "      598  599  600  \n",
       "6363  0.0  0.0    0  \n",
       "1394  0.0  0.0    0  \n",
       "4182  0.0  0.0    0  \n",
       "3791  0.0  0.0    0  \n",
       "5754  0.0  0.0    0  \n",
       "\n",
       "[5 rows x 601 columns]"
      ]
     },
     "execution_count": 14,
     "metadata": {},
     "output_type": "execute_result"
    }
   ],
   "source": [
    "train_df.head()"
   ]
  },
  {
   "cell_type": "markdown",
   "metadata": {},
   "source": [
    "Sekarang kita memiliki dataset yang sudah balance."
   ]
  },
  {
   "cell_type": "code",
   "execution_count": 15,
   "metadata": {},
   "outputs": [
    {
     "name": "stdout",
     "output_type": "stream",
     "text": [
      "1    5000\n",
      "0    5000\n",
      "Name: 600, dtype: int64\n"
     ]
    }
   ],
   "source": [
    "# cek balanced dataset\n",
    "\n",
    "equilibre=train_df[600].value_counts()\n",
    "\n",
    "print(equilibre)"
   ]
  },
  {
   "cell_type": "markdown",
   "metadata": {},
   "source": [
    "## Understanding ECG Signal\n",
    "- Sekarang kita ambil 1 sample tiap class untuk melihat profile heart beat masing-masing class.\n",
    "- Ini berguna untuk kita agar dapat memahami karakteristik sinyal ECG untuk tiap class.\n",
    "- Task ini mudah dilakukan menggunakan pandas,  `.groupby()` pada kolom 187 (kolom class) dan dengan menggunakan fungsi `.apply()` kita ambil 1 sample data menggunakan `.sample()`."
   ]
  },
  {
   "cell_type": "code",
   "execution_count": 16,
   "metadata": {},
   "outputs": [],
   "source": [
    "ECG_PER_CLASS =train_df.groupby(600,group_keys=False).apply(lambda train_df : train_df.sample(1))"
   ]
  },
  {
   "cell_type": "code",
   "execution_count": 17,
   "metadata": {},
   "outputs": [
    {
     "data": {
      "text/html": [
       "<div>\n",
       "<style scoped>\n",
       "    .dataframe tbody tr th:only-of-type {\n",
       "        vertical-align: middle;\n",
       "    }\n",
       "\n",
       "    .dataframe tbody tr th {\n",
       "        vertical-align: top;\n",
       "    }\n",
       "\n",
       "    .dataframe thead th {\n",
       "        text-align: right;\n",
       "    }\n",
       "</style>\n",
       "<table border=\"1\" class=\"dataframe\">\n",
       "  <thead>\n",
       "    <tr style=\"text-align: right;\">\n",
       "      <th></th>\n",
       "      <th>0</th>\n",
       "      <th>1</th>\n",
       "      <th>2</th>\n",
       "      <th>3</th>\n",
       "      <th>4</th>\n",
       "      <th>5</th>\n",
       "      <th>6</th>\n",
       "      <th>7</th>\n",
       "      <th>8</th>\n",
       "      <th>9</th>\n",
       "      <th>...</th>\n",
       "      <th>591</th>\n",
       "      <th>592</th>\n",
       "      <th>593</th>\n",
       "      <th>594</th>\n",
       "      <th>595</th>\n",
       "      <th>596</th>\n",
       "      <th>597</th>\n",
       "      <th>598</th>\n",
       "      <th>599</th>\n",
       "      <th>600</th>\n",
       "    </tr>\n",
       "  </thead>\n",
       "  <tbody>\n",
       "    <tr>\n",
       "      <th>2478</th>\n",
       "      <td>0.349906</td>\n",
       "      <td>0.455301</td>\n",
       "      <td>0.637736</td>\n",
       "      <td>0.735105</td>\n",
       "      <td>0.824557</td>\n",
       "      <td>0.821162</td>\n",
       "      <td>0.678574</td>\n",
       "      <td>0.381313</td>\n",
       "      <td>0.037389</td>\n",
       "      <td>-0.152578</td>\n",
       "      <td>...</td>\n",
       "      <td>0.0</td>\n",
       "      <td>0.0</td>\n",
       "      <td>0.0</td>\n",
       "      <td>0.0</td>\n",
       "      <td>0.0</td>\n",
       "      <td>0.0</td>\n",
       "      <td>0.0</td>\n",
       "      <td>0.0</td>\n",
       "      <td>0.0</td>\n",
       "      <td>0</td>\n",
       "    </tr>\n",
       "    <tr>\n",
       "      <th>424</th>\n",
       "      <td>0.403574</td>\n",
       "      <td>0.516198</td>\n",
       "      <td>0.682016</td>\n",
       "      <td>0.811793</td>\n",
       "      <td>0.860893</td>\n",
       "      <td>0.784673</td>\n",
       "      <td>0.672284</td>\n",
       "      <td>0.461235</td>\n",
       "      <td>0.142552</td>\n",
       "      <td>-0.167867</td>\n",
       "      <td>...</td>\n",
       "      <td>0.0</td>\n",
       "      <td>0.0</td>\n",
       "      <td>0.0</td>\n",
       "      <td>0.0</td>\n",
       "      <td>0.0</td>\n",
       "      <td>0.0</td>\n",
       "      <td>0.0</td>\n",
       "      <td>0.0</td>\n",
       "      <td>0.0</td>\n",
       "      <td>1</td>\n",
       "    </tr>\n",
       "  </tbody>\n",
       "</table>\n",
       "<p>2 rows × 601 columns</p>\n",
       "</div>"
      ],
      "text/plain": [
       "           0         1         2         3         4         5         6    \\\n",
       "2478  0.349906  0.455301  0.637736  0.735105  0.824557  0.821162  0.678574   \n",
       "424   0.403574  0.516198  0.682016  0.811793  0.860893  0.784673  0.672284   \n",
       "\n",
       "           7         8         9    ...  591  592  593  594  595  596  597  \\\n",
       "2478  0.381313  0.037389 -0.152578  ...  0.0  0.0  0.0  0.0  0.0  0.0  0.0   \n",
       "424   0.461235  0.142552 -0.167867  ...  0.0  0.0  0.0  0.0  0.0  0.0  0.0   \n",
       "\n",
       "      598  599  600  \n",
       "2478  0.0  0.0    0  \n",
       "424   0.0  0.0    1  \n",
       "\n",
       "[2 rows x 601 columns]"
      ]
     },
     "execution_count": 17,
     "metadata": {},
     "output_type": "execute_result"
    }
   ],
   "source": [
    "ECG_PER_CLASS"
   ]
  },
  {
   "cell_type": "markdown",
   "metadata": {},
   "source": [
    "- Pertama kita plot tiap sample pada dataframe `ECG_PER_CLASS` menggunakan pandas `.plot()`.\n",
    "- Setelah itu kita plot 2D histogram untuk keseluruhan sample ECG tiap class menggunakan fungsi `plot_hist()` yang kita buat dibawah.\n",
    "- Pada plot histogram, daerah dengan intensitas lebih terang menandakan banyak titik sample pada waktu dan nilai ECG tersebut.\n",
    "- Sebaliknya untuk daerah yang lebih gelap."
   ]
  },
  {
   "cell_type": "code",
   "execution_count": 33,
   "metadata": {},
   "outputs": [],
   "source": [
    "def plot_1_sample(class_number, fs=250):\n",
    "    data1 = ECG_PER_CLASS.iloc[class_number,300:600]\n",
    "    data2 = ECG_PER_CLASS.iloc[class_number,0:300]\n",
    "    times = np.arange(data1.shape[0], dtype='float') / fs * 1000\n",
    "    \n",
    "    plt.plot(times, data1)\n",
    "    plt.plot(times, data2)\n",
    "    plt.title(\"Plot 1 sample in class \" + str(class_number))\n",
    "    plt.xlabel(\"Time (ms)\")\n",
    "    plt.ylabel(\"Normalized Value\")\n",
    "    plt.legend(['channel 1', 'channel 2'])\n",
    "    plt.show()"
   ]
  },
  {
   "cell_type": "code",
   "execution_count": 32,
   "metadata": {},
   "outputs": [],
   "source": [
    "def plot_hist(class_number, min_, size, fs=250):\n",
    "    # filter data berdasarkan class_number \n",
    "    ECG=train_df.loc[train_df[600]==class_number].values\n",
    "    \n",
    "    # scale tm value (*1000) agar bisa ditampilkan dalam satuam (ms)\n",
    "    tm = np.arange(ECG.shape[1], dtype='float') / fs * 1000\n",
    "    \n",
    "    # ambil data hanya pada kolom `min_` sampai `size`\n",
    "    # convert ke 1D array\n",
    "    ECG=ECG[:,min_:size]\n",
    "    ECG_flatten=ECG.flatten()\n",
    "    \n",
    "    # generate time data untuk tiap kolom sample, \n",
    "    # ulang sebanyak ECG.shape[0]\n",
    "    times = np.tile(tm[min_:size], ECG.shape[0]) \n",
    "\n",
    "    # plot sebagai 2D histogram\n",
    "    plt.hist2d(times, ECG_flatten, bins=(80,80), cmap=plt.cm.jet)\n",
    "    plt.title(\"2D histogram on class \" + str(class_number))\n",
    "    plt.xlabel(\"Time (ms)\")\n",
    "    plt.ylabel(\"Normalized Value\")\n",
    "    \n",
    "    plt.show()"
   ]
  },
  {
   "cell_type": "code",
   "execution_count": 34,
   "metadata": {},
   "outputs": [
    {
     "data": {
      "image/png": "[encoded data removed]",
      "text/plain": [
       "<Figure size 432x288 with 1 Axes>"
      ]
     },
     "metadata": {
      "needs_background": "light"
     },
     "output_type": "display_data"
    }
   ],
   "source": [
    "plot_1_sample(class_number=0)"
   ]
  },
  {
   "cell_type": "code",
   "execution_count": 21,
   "metadata": {},
   "outputs": [
    {
     "data": {
      "image/png": "[encoded data removed]",
      "text/plain": [
       "<Figure size 432x288 with 1 Axes>"
      ]
     },
     "metadata": {
      "needs_background": "light"
     },
     "output_type": "display_data"
    }
   ],
   "source": [
    "plot_hist(class_number=0, min_=0, size=80)"
   ]
  },
  {
   "cell_type": "code",
   "execution_count": 35,
   "metadata": {},
   "outputs": [
    {
     "data": {
      "image/png": "[encoded data removed]",
      "text/plain": [
       "<Figure size 432x288 with 1 Axes>"
      ]
     },
     "metadata": {
      "needs_background": "light"
     },
     "output_type": "display_data"
    }
   ],
   "source": [
    "plot_1_sample(class_number=1)"
   ]
  },
  {
   "cell_type": "code",
   "execution_count": 23,
   "metadata": {},
   "outputs": [
    {
     "data": {
      "image/png": "[encoded data removed]",
      "text/plain": [
       "<Figure size 432x288 with 1 Axes>"
      ]
     },
     "metadata": {
      "needs_background": "light"
     },
     "output_type": "display_data"
    }
   ],
   "source": [
    "plot_hist(class_number=1, min_=0, size=80)"
   ]
  },
  {
   "cell_type": "markdown",
   "metadata": {},
   "source": [
    "### Save Balanced Training Data and Test Data"
   ]
  },
  {
   "cell_type": "code",
   "execution_count": 24,
   "metadata": {},
   "outputs": [],
   "source": [
    "train_df.to_csv(dataset_folder + \"train_AFDB_%s_balanced.csv\" % record, header=None, index=None)\n",
    "test_df.to_csv(dataset_folder + \"test_AFDB_%s.csv\" % record, header=None, index=None)"
   ]
  },
  {
   "cell_type": "code",
   "execution_count": null,
   "metadata": {},
   "outputs": [],
   "source": []
  }
 ],
 "metadata": {
  "kernelspec": {
   "display_name": "Python [conda env:GPU_ENV]",
   "language": "python",
   "name": "conda-env-GPU_ENV-py"
  },
  "language_info": {
   "codemirror_mode": {
    "name": "ipython",
    "version": 3
   },
   "file_extension": ".py",
   "mimetype": "text/x-python",
   "name": "python",
   "nbconvert_exporter": "python",
   "pygments_lexer": "ipython3",
   "version": "3.6.12"
  }
 },
 "nbformat": 4,
 "nbformat_minor": 4
}
