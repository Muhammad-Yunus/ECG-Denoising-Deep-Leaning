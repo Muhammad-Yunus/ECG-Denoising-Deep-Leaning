{
 "cells": [
  {
   "cell_type": "markdown",
   "metadata": {},
   "source": [
    "# Load dataset"
   ]
  },
  {
   "cell_type": "code",
   "execution_count": 1,
   "metadata": {},
   "outputs": [],
   "source": [
    "labels = ['AF', 'N']"
   ]
  },
  {
   "cell_type": "code",
   "execution_count": 2,
   "metadata": {},
   "outputs": [],
   "source": [
    "import os\n",
    "# disable GPU\n",
    "#os.environ['CUDA_VISIBLE_DEVICES'] = '-1'\n",
    "\n",
    "dataset_folder = 'dataset/'\n",
    "filenames = []\n",
    "for filename in os.listdir(dataset_folder):\n",
    "    if filename.find(\"_all_\") > -1 :\n",
    "        filenames.append(filename)"
   ]
  },
  {
   "cell_type": "code",
   "execution_count": 3,
   "metadata": {},
   "outputs": [
    {
     "data": {
      "text/plain": [
       "['test_all_lms.csv',\n",
       " 'test_all_nlms.csv',\n",
       " 'test_all_rls.csv',\n",
       " 'train_all_lms.csv',\n",
       " 'train_all_nlms.csv',\n",
       " 'train_all_rls.csv']"
      ]
     },
     "execution_count": 3,
     "metadata": {},
     "output_type": "execute_result"
    }
   ],
   "source": [
    "filenames"
   ]
  },
  {
   "cell_type": "code",
   "execution_count": 4,
   "metadata": {},
   "outputs": [],
   "source": [
    "import pandas as pd\n",
    "import numpy as np \n",
    "import matplotlib.pyplot as plt\n",
    "\n",
    "from sklearn.metrics import classification_report\n",
    "from sklearn.metrics import f1_score\n",
    "from sklearn.metrics import confusion_matrix\n",
    "from sklearn.utils import class_weight\n"
   ]
  },
  {
   "cell_type": "code",
   "execution_count": 5,
   "metadata": {},
   "outputs": [],
   "source": [
    "train_lms_df = pd.read_csv(dataset_folder + \"train_all_lms.csv\", header=None)\n",
    "train_nlms_df = pd.read_csv(dataset_folder + \"train_all_nlms.csv\", header=None)\n",
    "train_rls_df = pd.read_csv(dataset_folder + \"train_all_rls.csv\", header=None)\n",
    "\n",
    "test_lms_df = pd.read_csv(dataset_folder + \"test_all_lms.csv\", header=None)\n",
    "test_nlms_df = pd.read_csv(dataset_folder + \"test_all_nlms.csv\", header=None)\n",
    "test_rls_df = pd.read_csv(dataset_folder + \"test_all_rls.csv\", header=None)"
   ]
  },
  {
   "cell_type": "markdown",
   "metadata": {},
   "source": [
    "## Dataset AFDB\n",
    "Dataset AFDB terdiri dari 301 kolom, dimana kolom ke 301 merupakan katerori/class."
   ]
  },
  {
   "cell_type": "code",
   "execution_count": 6,
   "metadata": {},
   "outputs": [
    {
     "data": {
      "text/html": [
       "<div>\n",
       "<style scoped>\n",
       "    .dataframe tbody tr th:only-of-type {\n",
       "        vertical-align: middle;\n",
       "    }\n",
       "\n",
       "    .dataframe tbody tr th {\n",
       "        vertical-align: top;\n",
       "    }\n",
       "\n",
       "    .dataframe thead th {\n",
       "        text-align: right;\n",
       "    }\n",
       "</style>\n",
       "<table border=\"1\" class=\"dataframe\">\n",
       "  <thead>\n",
       "    <tr style=\"text-align: right;\">\n",
       "      <th></th>\n",
       "      <th>0</th>\n",
       "      <th>1</th>\n",
       "      <th>2</th>\n",
       "      <th>3</th>\n",
       "      <th>4</th>\n",
       "      <th>5</th>\n",
       "      <th>6</th>\n",
       "      <th>7</th>\n",
       "      <th>8</th>\n",
       "      <th>9</th>\n",
       "      <th>...</th>\n",
       "      <th>291</th>\n",
       "      <th>292</th>\n",
       "      <th>293</th>\n",
       "      <th>294</th>\n",
       "      <th>295</th>\n",
       "      <th>296</th>\n",
       "      <th>297</th>\n",
       "      <th>298</th>\n",
       "      <th>299</th>\n",
       "      <th>300</th>\n",
       "    </tr>\n",
       "  </thead>\n",
       "  <tbody>\n",
       "    <tr>\n",
       "      <th>0</th>\n",
       "      <td>0.844191</td>\n",
       "      <td>0.209708</td>\n",
       "      <td>-0.402446</td>\n",
       "      <td>-0.676738</td>\n",
       "      <td>-0.642198</td>\n",
       "      <td>-0.553246</td>\n",
       "      <td>-0.432420</td>\n",
       "      <td>-0.328003</td>\n",
       "      <td>-0.297936</td>\n",
       "      <td>-0.297111</td>\n",
       "      <td>...</td>\n",
       "      <td>0.0</td>\n",
       "      <td>0.0</td>\n",
       "      <td>0.0</td>\n",
       "      <td>0.0</td>\n",
       "      <td>0.0</td>\n",
       "      <td>0.0</td>\n",
       "      <td>0.0</td>\n",
       "      <td>0.0</td>\n",
       "      <td>0.0</td>\n",
       "      <td>0.0</td>\n",
       "    </tr>\n",
       "    <tr>\n",
       "      <th>1</th>\n",
       "      <td>1.012336</td>\n",
       "      <td>0.788399</td>\n",
       "      <td>0.199666</td>\n",
       "      <td>-0.662931</td>\n",
       "      <td>-0.761912</td>\n",
       "      <td>-0.710164</td>\n",
       "      <td>-0.635122</td>\n",
       "      <td>-0.494298</td>\n",
       "      <td>-0.263377</td>\n",
       "      <td>-0.057589</td>\n",
       "      <td>...</td>\n",
       "      <td>0.0</td>\n",
       "      <td>0.0</td>\n",
       "      <td>0.0</td>\n",
       "      <td>0.0</td>\n",
       "      <td>0.0</td>\n",
       "      <td>0.0</td>\n",
       "      <td>0.0</td>\n",
       "      <td>0.0</td>\n",
       "      <td>0.0</td>\n",
       "      <td>0.0</td>\n",
       "    </tr>\n",
       "    <tr>\n",
       "      <th>2</th>\n",
       "      <td>0.683262</td>\n",
       "      <td>0.494563</td>\n",
       "      <td>-0.049856</td>\n",
       "      <td>-0.634561</td>\n",
       "      <td>-0.895580</td>\n",
       "      <td>-0.854207</td>\n",
       "      <td>-0.643937</td>\n",
       "      <td>-0.389116</td>\n",
       "      <td>-0.253503</td>\n",
       "      <td>-0.112641</td>\n",
       "      <td>...</td>\n",
       "      <td>0.0</td>\n",
       "      <td>0.0</td>\n",
       "      <td>0.0</td>\n",
       "      <td>0.0</td>\n",
       "      <td>0.0</td>\n",
       "      <td>0.0</td>\n",
       "      <td>0.0</td>\n",
       "      <td>0.0</td>\n",
       "      <td>0.0</td>\n",
       "      <td>0.0</td>\n",
       "    </tr>\n",
       "    <tr>\n",
       "      <th>3</th>\n",
       "      <td>0.475014</td>\n",
       "      <td>0.183358</td>\n",
       "      <td>-0.408782</td>\n",
       "      <td>-0.711203</td>\n",
       "      <td>-0.512900</td>\n",
       "      <td>-0.341470</td>\n",
       "      <td>-0.157317</td>\n",
       "      <td>-0.138473</td>\n",
       "      <td>-0.139818</td>\n",
       "      <td>-0.141538</td>\n",
       "      <td>...</td>\n",
       "      <td>0.0</td>\n",
       "      <td>0.0</td>\n",
       "      <td>0.0</td>\n",
       "      <td>0.0</td>\n",
       "      <td>0.0</td>\n",
       "      <td>0.0</td>\n",
       "      <td>0.0</td>\n",
       "      <td>0.0</td>\n",
       "      <td>0.0</td>\n",
       "      <td>0.0</td>\n",
       "    </tr>\n",
       "    <tr>\n",
       "      <th>4</th>\n",
       "      <td>0.793899</td>\n",
       "      <td>0.643632</td>\n",
       "      <td>0.163288</td>\n",
       "      <td>-0.413060</td>\n",
       "      <td>-0.851342</td>\n",
       "      <td>-0.482209</td>\n",
       "      <td>-0.285004</td>\n",
       "      <td>-0.147579</td>\n",
       "      <td>-0.043525</td>\n",
       "      <td>-0.015675</td>\n",
       "      <td>...</td>\n",
       "      <td>0.0</td>\n",
       "      <td>0.0</td>\n",
       "      <td>0.0</td>\n",
       "      <td>0.0</td>\n",
       "      <td>0.0</td>\n",
       "      <td>0.0</td>\n",
       "      <td>0.0</td>\n",
       "      <td>0.0</td>\n",
       "      <td>0.0</td>\n",
       "      <td>0.0</td>\n",
       "    </tr>\n",
       "  </tbody>\n",
       "</table>\n",
       "<p>5 rows × 301 columns</p>\n",
       "</div>"
      ],
      "text/plain": [
       "        0         1         2         3         4         5         6    \\\n",
       "0  0.844191  0.209708 -0.402446 -0.676738 -0.642198 -0.553246 -0.432420   \n",
       "1  1.012336  0.788399  0.199666 -0.662931 -0.761912 -0.710164 -0.635122   \n",
       "2  0.683262  0.494563 -0.049856 -0.634561 -0.895580 -0.854207 -0.643937   \n",
       "3  0.475014  0.183358 -0.408782 -0.711203 -0.512900 -0.341470 -0.157317   \n",
       "4  0.793899  0.643632  0.163288 -0.413060 -0.851342 -0.482209 -0.285004   \n",
       "\n",
       "        7         8         9    ...  291  292  293  294  295  296  297  298  \\\n",
       "0 -0.328003 -0.297936 -0.297111  ...  0.0  0.0  0.0  0.0  0.0  0.0  0.0  0.0   \n",
       "1 -0.494298 -0.263377 -0.057589  ...  0.0  0.0  0.0  0.0  0.0  0.0  0.0  0.0   \n",
       "2 -0.389116 -0.253503 -0.112641  ...  0.0  0.0  0.0  0.0  0.0  0.0  0.0  0.0   \n",
       "3 -0.138473 -0.139818 -0.141538  ...  0.0  0.0  0.0  0.0  0.0  0.0  0.0  0.0   \n",
       "4 -0.147579 -0.043525 -0.015675  ...  0.0  0.0  0.0  0.0  0.0  0.0  0.0  0.0   \n",
       "\n",
       "   299  300  \n",
       "0  0.0  0.0  \n",
       "1  0.0  0.0  \n",
       "2  0.0  0.0  \n",
       "3  0.0  0.0  \n",
       "4  0.0  0.0  \n",
       "\n",
       "[5 rows x 301 columns]"
      ]
     },
     "execution_count": 6,
     "metadata": {},
     "output_type": "execute_result"
    }
   ],
   "source": [
    "train_lms_df.head()"
   ]
  },
  {
   "cell_type": "code",
   "execution_count": 7,
   "metadata": {},
   "outputs": [
    {
     "name": "stdout",
     "output_type": "stream",
     "text": [
      "<class 'pandas.core.frame.DataFrame'>\n",
      "RangeIndex: 22440 entries, 0 to 22439\n",
      "Columns: 301 entries, 0 to 300\n",
      "dtypes: float64(301)\n",
      "memory usage: 51.5 MB\n"
     ]
    }
   ],
   "source": [
    "train_lms_df.info()"
   ]
  },
  {
   "cell_type": "code",
   "execution_count": 8,
   "metadata": {},
   "outputs": [
    {
     "name": "stdout",
     "output_type": "stream",
     "text": [
      "<class 'pandas.core.frame.DataFrame'>\n",
      "RangeIndex: 9408 entries, 0 to 9407\n",
      "Columns: 301 entries, 0 to 300\n",
      "dtypes: float64(301)\n",
      "memory usage: 21.6 MB\n"
     ]
    }
   ],
   "source": [
    "test_lms_df.info()"
   ]
  },
  {
   "cell_type": "markdown",
   "metadata": {},
   "source": [
    "## Building Convolutional Neural Network\n",
    "\n",
    "- Import Keras library"
   ]
  },
  {
   "cell_type": "code",
   "execution_count": 9,
   "metadata": {},
   "outputs": [
    {
     "name": "stderr",
     "output_type": "stream",
     "text": [
      "Using TensorFlow backend.\n"
     ]
    }
   ],
   "source": [
    "from keras.utils.np_utils import to_categorical\n",
    "from keras.models import Sequential\n",
    "from keras.layers import Dense, Conv1D, MaxPool1D, Flatten, Dropout\n",
    "from keras.layers import Input\n",
    "from keras.models import Model\n",
    "from keras.layers.normalization import BatchNormalization\n",
    "from keras.callbacks import EarlyStopping, ModelCheckpoint\n",
    "\n",
    "import keras"
   ]
  },
  {
   "cell_type": "markdown",
   "metadata": {},
   "source": [
    "- Buat CNN Model dengan aritektur network : \n",
    "`CONV-POOL-CONV-POOL-CONV-POOL-FC`\n",
    "- CONV : 1D Convolutional Layer\n",
    "- POOL : MAX Pooling Layer\n",
    "- FC   : Dense Layer + Activation"
   ]
  },
  {
   "cell_type": "code",
   "execution_count": 12,
   "metadata": {},
   "outputs": [],
   "source": [
    "def cnn_model(max_len):\n",
    "    \n",
    "    model = Sequential()\n",
    "    \n",
    "    model.add(Conv1D(filters=64,\n",
    "                     kernel_size=6,\n",
    "                     activation='relu',\n",
    "                     input_shape=(max_len, 1)))\n",
    "    model.add(BatchNormalization())\n",
    "    model.add(MaxPool1D(pool_size=3,\n",
    "                        strides=2,\n",
    "                        padding='same'))\n",
    "    \n",
    "    \n",
    "    model.add(Conv1D(filters=64,\n",
    "                     kernel_size=6,\n",
    "                     activation='relu'))\n",
    "    model.add(BatchNormalization())\n",
    "    model.add(MaxPool1D(pool_size=2,\n",
    "                        strides=2,\n",
    "                        padding='same'))\n",
    "    \n",
    "    \n",
    "    model.add(Conv1D(filters=64,\n",
    "                     kernel_size=3,\n",
    "                     activation='relu'))\n",
    "    model.add(BatchNormalization())\n",
    "    model.add(MaxPool1D(pool_size=2,\n",
    "                        strides=2,\n",
    "                        padding='same'))\n",
    "    \n",
    "    \n",
    "    # Fully Connected layer (FC)\n",
    "    model.add(Flatten())\n",
    "    model.add(Dense(64, \n",
    "                    activation='relu'))\n",
    "    model.add(Dense(32, \n",
    "                    activation='relu'))\n",
    "    model.add(Dense(2, \n",
    "                    activation='softmax'))\n",
    "              \n",
    "    model.summary()\n",
    "    model.compile(optimizer='adam', \n",
    "                  loss='categorical_crossentropy',\n",
    "                  metrics = ['accuracy'])\n",
    "\n",
    "    return model"
   ]
  },
  {
   "cell_type": "markdown",
   "metadata": {},
   "source": [
    "- sekarang kita akan melakukan proses training model dengan memanfaatkan `.fit()` pada model yang kita buat diatas.\n",
    "- selain itu kita gunakan juka teknik `EarlyStoping()` untuk menghentikan proses training jika terjadi divergensi pada validation data yang diakibatkan oleh overfitting. \n",
    "- pada `EarlyStoping()` kita gunakan parmeter `patience=8` yang artinya jika proses training untuk 8 epoch tidak terjadi peningkatan maka hentikan proses training."
   ]
  },
  {
   "cell_type": "code",
   "execution_count": 13,
   "metadata": {},
   "outputs": [],
   "source": [
    "def check_model(model_, x, y, x_val, y_val, epochs_, batch_size_):\n",
    "    callbacks = [EarlyStopping(monitor='val_loss', patience=3),\n",
    "                 ModelCheckpoint(filepath='best_model.h5', monitor='val_loss', save_best_only=True)]\n",
    "\n",
    "    hist = model_.fit(x, \n",
    "                      y,\n",
    "                      epochs=epochs_,\n",
    "                      callbacks=callbacks, \n",
    "                      batch_size=batch_size_,\n",
    "                      validation_data=(x_val,y_val))\n",
    "    model_.load_weights('best_model.h5')\n",
    "    return hist "
   ]
  },
  {
   "cell_type": "markdown",
   "metadata": {},
   "source": [
    "### Train Model CNN"
   ]
  },
  {
   "cell_type": "markdown",
   "metadata": {},
   "source": [
    "- Prepare training set dan test set"
   ]
  },
  {
   "cell_type": "code",
   "execution_count": 37,
   "metadata": {},
   "outputs": [],
   "source": [
    "denoised = 'rls' # isi dengan 'lms', 'nlms', 'rls' untuk memilih sumber dataset dari hasil denoising tsb.\n",
    "\n",
    "train_df = train_lms_df if denoised == 'lms' else train_nlms_df if denoised == 'nlms' else train_rls_df\n",
    "test_df = test_lms_df if denoised == 'lms' else test_nlms_df if denoised == 'nlms' else test_rls_df"
   ]
  },
  {
   "cell_type": "code",
   "execution_count": 38,
   "metadata": {},
   "outputs": [],
   "source": [
    "target_train = train_df[300]\n",
    "target_test = test_df[300]\n",
    "y_train=to_categorical(target_train)\n",
    "y_test=to_categorical(target_test)"
   ]
  },
  {
   "cell_type": "code",
   "execution_count": 39,
   "metadata": {},
   "outputs": [],
   "source": [
    "X_train=train_df.iloc[:,:300].values\n",
    "X_test=test_df.iloc[:,:300].values\n",
    "\n",
    "X_train = X_train.reshape(len(X_train), X_train.shape[1],1)\n",
    "X_test = X_test.reshape(len(X_test), X_test.shape[1],1)"
   ]
  },
  {
   "cell_type": "markdown",
   "metadata": {},
   "source": [
    "- jalankan proses training dengan `EPOCH` sebanyak 16 dan `BATCH_SIZE` sebesar 32"
   ]
  },
  {
   "cell_type": "code",
   "execution_count": 40,
   "metadata": {},
   "outputs": [
    {
     "name": "stdout",
     "output_type": "stream",
     "text": [
      "_________________________________________________________________\n",
      "Layer (type)                 Output Shape              Param #   \n",
      "=================================================================\n",
      "conv1d_7 (Conv1D)            (None, 295, 64)           448       \n",
      "_________________________________________________________________\n",
      "batch_normalization_7 (Batch (None, 295, 64)           256       \n",
      "_________________________________________________________________\n",
      "max_pooling1d_7 (MaxPooling1 (None, 148, 64)           0         \n",
      "_________________________________________________________________\n",
      "conv1d_8 (Conv1D)            (None, 143, 64)           24640     \n",
      "_________________________________________________________________\n",
      "batch_normalization_8 (Batch (None, 143, 64)           256       \n",
      "_________________________________________________________________\n",
      "max_pooling1d_8 (MaxPooling1 (None, 72, 64)            0         \n",
      "_________________________________________________________________\n",
      "conv1d_9 (Conv1D)            (None, 70, 64)            12352     \n",
      "_________________________________________________________________\n",
      "batch_normalization_9 (Batch (None, 70, 64)            256       \n",
      "_________________________________________________________________\n",
      "max_pooling1d_9 (MaxPooling1 (None, 35, 64)            0         \n",
      "_________________________________________________________________\n",
      "flatten_3 (Flatten)          (None, 2240)              0         \n",
      "_________________________________________________________________\n",
      "dense_7 (Dense)              (None, 64)                143424    \n",
      "_________________________________________________________________\n",
      "dense_8 (Dense)              (None, 32)                2080      \n",
      "_________________________________________________________________\n",
      "dense_9 (Dense)              (None, 2)                 66        \n",
      "=================================================================\n",
      "Total params: 183,778\n",
      "Trainable params: 183,394\n",
      "Non-trainable params: 384\n",
      "_________________________________________________________________\n",
      "Train on 22440 samples, validate on 9408 samples\n",
      "Epoch 1/16\n",
      "22440/22440 [==============================] - 43s 2ms/step - loss: 0.3071 - acc: 0.8674 - val_loss: 0.2651 - val_acc: 0.8908\n",
      "Epoch 2/16\n",
      "22440/22440 [==============================] - 43s 2ms/step - loss: 0.1995 - acc: 0.9193 - val_loss: 0.2894 - val_acc: 0.8871\n",
      "Epoch 3/16\n",
      "22440/22440 [==============================] - 63s 3ms/step - loss: 0.1513 - acc: 0.9374 - val_loss: 0.2199 - val_acc: 0.9115\n",
      "Epoch 4/16\n",
      "22440/22440 [==============================] - 64s 3ms/step - loss: 0.1153 - acc: 0.9520 - val_loss: 0.3162 - val_acc: 0.8803\n",
      "Epoch 5/16\n",
      "22440/22440 [==============================] - 73s 3ms/step - loss: 0.0874 - acc: 0.9657 - val_loss: 0.2341 - val_acc: 0.9155\n",
      "Epoch 6/16\n",
      "22440/22440 [==============================] - 74s 3ms/step - loss: 0.0703 - acc: 0.9718 - val_loss: 0.2262 - val_acc: 0.9222\n"
     ]
    }
   ],
   "source": [
    "max_len = X_train.shape[1]  \n",
    "\n",
    "EPOCHS = 16\n",
    "BATCH_SIZE = 32\n",
    "\n",
    "model = cnn_model(max_len)\n",
    "history=check_model(model, X_train,y_train,X_test,y_test, EPOCHS, BATCH_SIZE)"
   ]
  },
  {
   "cell_type": "markdown",
   "metadata": {},
   "source": [
    "- Save model"
   ]
  },
  {
   "cell_type": "code",
   "execution_count": 41,
   "metadata": {},
   "outputs": [],
   "source": [
    "model.save(\"CNN_Classification_model_%s.h5\" % denoised)"
   ]
  },
  {
   "cell_type": "markdown",
   "metadata": {},
   "source": [
    "- save model training history (log)"
   ]
  },
  {
   "cell_type": "code",
   "execution_count": 42,
   "metadata": {},
   "outputs": [],
   "source": [
    "pd.DataFrame.from_dict(history.history).to_csv('history_train_classif_cnn_denoising_%s.csv' % denoised,index=False)"
   ]
  },
  {
   "cell_type": "markdown",
   "metadata": {},
   "source": [
    "# Evaluate Model\n",
    "\n",
    "- Plot Accuracy vs Epochs\n",
    "- Plot Loss vs Epochs\n",
    "- Plot Confusion Matrix"
   ]
  },
  {
   "cell_type": "code",
   "execution_count": 43,
   "metadata": {},
   "outputs": [
    {
     "data": {
      "image/png": "[encoded data removed]",
      "text/plain": [
       "<Figure size 432x288 with 1 Axes>"
      ]
     },
     "metadata": {
      "needs_background": "light"
     },
     "output_type": "display_data"
    },
    {
     "data": {
      "image/png": "[encoded data removed]",
      "text/plain": [
       "<Figure size 432x288 with 1 Axes>"
      ]
     },
     "metadata": {
      "needs_background": "light"
     },
     "output_type": "display_data"
    }
   ],
   "source": [
    "def evaluate_model(history, X_test, y_test):\n",
    "    \n",
    "    fig1, ax_acc = plt.subplots()\n",
    "    plt.plot(history.history['acc'])\n",
    "    plt.plot(history.history['val_acc'])\n",
    "    plt.xlabel('Epoch')\n",
    "    plt.ylabel('Accuracy')\n",
    "    plt.title('Model - Accuracy')\n",
    "    plt.legend(['Training', 'Validation'], loc='lower right')\n",
    "    plt.show()\n",
    "    \n",
    "    fig2, ax_loss = plt.subplots()\n",
    "    plt.plot(history.history['loss'])\n",
    "    plt.plot(history.history['val_loss'])\n",
    "    plt.xlabel('Epoch')\n",
    "    plt.ylabel('Loss')\n",
    "    plt.title('Model- Loss')\n",
    "    plt.legend(['Training', 'Validation'], loc='upper right')\n",
    "    plt.show()\n",
    "\n",
    "evaluate_model(history, X_test, y_test)    "
   ]
  },
  {
   "cell_type": "markdown",
   "metadata": {},
   "source": [
    "- Dari hasil diatas kita bisa melihat jika akurasi training set = 0.99, sedangkan untuk akurasi validation set = 0.97\n",
    "- Untuk plot loss training set = 0.01 sedangkan untuk loss validation set = 0.13"
   ]
  },
  {
   "cell_type": "code",
   "execution_count": 44,
   "metadata": {},
   "outputs": [],
   "source": [
    "import itertools\n",
    "def plot_confusion_matrix(cm, classes,\n",
    "                          normalize=False,\n",
    "                          title='Confusion matrix',\n",
    "                          cmap=plt.cm.Blues):\n",
    "    if normalize:\n",
    "        cm = cm.astype('float') / cm.sum(axis=1)[:, np.newaxis]\n",
    "\n",
    "    plt.figure(figsize=(10, 10))\n",
    "    \n",
    "    plt.imshow(cm, interpolation='nearest', cmap=cmap)\n",
    "    plt.title(title)\n",
    "    plt.colorbar()\n",
    "    tick_marks = np.arange(len(classes))\n",
    "    plt.xticks(tick_marks, classes, rotation=45)\n",
    "    plt.yticks(tick_marks, classes)\n",
    "\n",
    "    fmt = '.2f' if normalize else 'd'\n",
    "    thresh = cm.max() / 2.\n",
    "    for i, j in itertools.product(range(cm.shape[0]), range(cm.shape[1])):\n",
    "        plt.text(j, i, format(cm[i, j], fmt),\n",
    "                 horizontalalignment=\"center\",\n",
    "                 color=\"white\" if cm[i, j] > thresh else \"black\")\n",
    "\n",
    "    plt.tight_layout()\n",
    "    plt.ylabel('True label')\n",
    "    plt.xlabel('Predicted label')\n",
    "    plt.show()"
   ]
  },
  {
   "cell_type": "code",
   "execution_count": 45,
   "metadata": {},
   "outputs": [
    {
     "data": {
      "image/png": "[encoded data removed]",
      "text/plain": [
       "<Figure size 720x720 with 2 Axes>"
      ]
     },
     "metadata": {
      "needs_background": "light"
     },
     "output_type": "display_data"
    }
   ],
   "source": [
    "# predict test data\n",
    "y_pred=model.predict(X_test)\n",
    "\n",
    "\n",
    "# Compute confusion matrix\n",
    "cnf_matrix = confusion_matrix(y_test.argmax(axis=1), y_pred.argmax(axis=1))\n",
    "np.set_printoptions(precision=2)\n",
    "\n",
    "\n",
    "# Plot non-normalized confusion matrix\n",
    "plot_confusion_matrix(cnf_matrix, classes=['AF', 'N'],normalize=True,\n",
    "                      title='Confusion matrix, with normalization')\n"
   ]
  },
  {
   "cell_type": "markdown",
   "metadata": {},
   "source": [
    "- dari hasil plot confusion matrix, dapat dilihat tiap kelas memiliki banyak TRUE POSITIVE predicted data\n",
    "- semakin gelap kebiruan menunjukan banyaknya hasil predicted label untuk true label tersebut"
   ]
  },
  {
   "cell_type": "code",
   "execution_count": 46,
   "metadata": {},
   "outputs": [
    {
     "name": "stdout",
     "output_type": "stream",
     "text": [
      "              precision    recall  f1-score   support\n",
      "\n",
      "          AF       0.89      0.89      0.89      3824\n",
      "           N       0.93      0.92      0.93      5584\n",
      "\n",
      "    accuracy                           0.91      9408\n",
      "   macro avg       0.91      0.91      0.91      9408\n",
      "weighted avg       0.91      0.91      0.91      9408\n",
      "\n"
     ]
    }
   ],
   "source": [
    "print(classification_report(y_test.argmax(axis=1), \n",
    "                            y_pred.argmax(axis=1), \n",
    "                            target_names=['AF', 'N']))"
   ]
  },
  {
   "cell_type": "markdown",
   "metadata": {},
   "source": [
    "- Jika kita lihat, nilai report untuk seluruh klas juga bagus, \n",
    "- Nilai recall dan precission juga tinggi, menunjukan model mampu memprediksi data dengan baik untuk seluruh data pada sclass tersebut "
   ]
  },
  {
   "cell_type": "code",
   "execution_count": null,
   "metadata": {},
   "outputs": [],
   "source": []
  }
 ],
 "metadata": {
  "kernelspec": {
   "display_name": "Python [conda env:GPU_ENV]",
   "language": "python",
   "name": "conda-env-GPU_ENV-py"
  },
  "language_info": {
   "codemirror_mode": {
    "name": "ipython",
    "version": 3
   },
   "file_extension": ".py",
   "mimetype": "text/x-python",
   "name": "python",
   "nbconvert_exporter": "python",
   "pygments_lexer": "ipython3",
   "version": "3.6.12"
  }
 },
 "nbformat": 4,
 "nbformat_minor": 4
}
