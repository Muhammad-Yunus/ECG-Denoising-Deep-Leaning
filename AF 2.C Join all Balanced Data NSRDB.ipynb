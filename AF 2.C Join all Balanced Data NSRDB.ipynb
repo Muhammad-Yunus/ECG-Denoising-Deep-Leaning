{
 "cells": [
  {
   "cell_type": "code",
   "execution_count": null,
   "metadata": {},
   "outputs": [],
   "source": [
    "import pandas as pd\n",
    "import numpy as np \n",
    "import matplotlib.pyplot as plt"
   ]
  },
  {
   "cell_type": "code",
   "execution_count": 2,
   "metadata": {},
   "outputs": [],
   "source": [
    "labels = ['AF', 'N']"
   ]
  },
  {
   "cell_type": "code",
   "execution_count": 3,
   "metadata": {},
   "outputs": [],
   "source": [
    "import os\n",
    "\n",
    "dataset_folder = 'dataset/'\n",
    "filenames = []\n",
    "for filename in os.listdir(dataset_folder):\n",
    "    if filename.find(\"_AFDB_\") > -1 or filename.find(\"NSRDB_\") > -1:\n",
    "        filenames.append(filename)"
   ]
  },
  {
   "cell_type": "code",
   "execution_count": 4,
   "metadata": {},
   "outputs": [
    {
     "data": {
      "text/plain": [
       "['NSRDB_16265_sequence_300_pt_2_ch.csv',\n",
       " 'NSRDB_16272_sequence_300_pt_2_ch.csv',\n",
       " 'NSRDB_16273_sequence_300_pt_2_ch.csv',\n",
       " 'NSRDB_16483_sequence_300_pt_2_ch.csv',\n",
       " 'NSRDB_16539_sequence_300_pt_2_ch.csv',\n",
       " 'NSRDB_16773_sequence_300_pt_2_ch.csv',\n",
       " 'NSRDB_16786_sequence_300_pt_2_ch.csv',\n",
       " 'NSRDB_16795_sequence_300_pt_2_ch.csv',\n",
       " 'NSRDB_17052_sequence_300_pt_2_ch.csv',\n",
       " 'NSRDB_17453_sequence_300_pt_2_ch.csv',\n",
       " 'NSRDB_18177_sequence_300_pt_2_ch.csv',\n",
       " 'NSRDB_18184_sequence_300_pt_2_ch.csv',\n",
       " 'NSRDB_19088_sequence_300_pt_2_ch.csv',\n",
       " 'NSRDB_19090_sequence_300_pt_2_ch.csv',\n",
       " 'NSRDB_19093_sequence_300_pt_2_ch.csv',\n",
       " 'NSRDB_19140_sequence_300_pt_2_ch.csv',\n",
       " 'NSRDB_19830_sequence_300_pt_2_ch.csv',\n",
       " 'test_AFDB_04015.csv',\n",
       " 'test_AFDB_04043.csv',\n",
       " 'test_AFDB_04048.csv',\n",
       " 'test_AFDB_04936.csv',\n",
       " 'test_AFDB_05091.csv',\n",
       " 'test_AFDB_05121.csv',\n",
       " 'test_AFDB_05261.csv',\n",
       " 'test_AFDB_06426.csv',\n",
       " 'test_AFDB_06453.csv',\n",
       " 'test_AFDB_06995.csv',\n",
       " 'test_AFDB_07910.csv',\n",
       " 'test_AFDB_08215.csv',\n",
       " 'test_AFDB_08219.csv',\n",
       " 'test_AFDB_08378.csv',\n",
       " 'test_AFDB_08455.csv',\n",
       " 'train_AFDB_04015_balanced.csv',\n",
       " 'train_AFDB_04043_balanced.csv',\n",
       " 'train_AFDB_04048_balanced.csv',\n",
       " 'train_AFDB_04936_balanced.csv',\n",
       " 'train_AFDB_05091_balanced.csv',\n",
       " 'train_AFDB_05121_balanced.csv',\n",
       " 'train_AFDB_05261_balanced.csv',\n",
       " 'train_AFDB_06426_balanced.csv',\n",
       " 'train_AFDB_06453_balanced.csv',\n",
       " 'train_AFDB_06995_balanced.csv',\n",
       " 'train_AFDB_07910_balanced.csv',\n",
       " 'train_AFDB_08215_balanced.csv',\n",
       " 'train_AFDB_08219_balanced.csv',\n",
       " 'train_AFDB_08378_balanced.csv',\n",
       " 'train_AFDB_08455_balanced.csv']"
      ]
     },
     "execution_count": 4,
     "metadata": {},
     "output_type": "execute_result"
    }
   ],
   "source": [
    "filenames"
   ]
  },
  {
   "cell_type": "code",
   "execution_count": 5,
   "metadata": {},
   "outputs": [],
   "source": [
    "train_dfs = []\n",
    "test_dfs = []\n",
    "normal_dfs = []\n",
    "for name in filenames :\n",
    "    if name.find('train_') > -1:\n",
    "        train_df = pd.read_csv(dataset_folder + name, header=None)\n",
    "        train_dfs.append(train_df)\n",
    "    if name.find('test_') > -1:\n",
    "        test_df = pd.read_csv(dataset_folder + name, header=None)\n",
    "        test_dfs.append(test_df)\n",
    "    if name.find('NSRDB_') > -1:\n",
    "        normal_df = pd.read_csv(dataset_folder + name, header=None)\n",
    "        normal_dfs.append(normal_df)"
   ]
  },
  {
   "cell_type": "code",
   "execution_count": 6,
   "metadata": {},
   "outputs": [],
   "source": [
    "train_df_all = pd.concat(train_dfs, ignore_index=True)\n",
    "test_df_all = pd.concat(test_dfs, ignore_index=True)\n",
    "normal_df_all = pd.concat(normal_dfs, ignore_index=True)"
   ]
  },
  {
   "cell_type": "code",
   "execution_count": 7,
   "metadata": {},
   "outputs": [
    {
     "data": {
      "text/html": [
       "<div>\n",
       "<style scoped>\n",
       "    .dataframe tbody tr th:only-of-type {\n",
       "        vertical-align: middle;\n",
       "    }\n",
       "\n",
       "    .dataframe tbody tr th {\n",
       "        vertical-align: top;\n",
       "    }\n",
       "\n",
       "    .dataframe thead th {\n",
       "        text-align: right;\n",
       "    }\n",
       "</style>\n",
       "<table border=\"1\" class=\"dataframe\">\n",
       "  <thead>\n",
       "    <tr style=\"text-align: right;\">\n",
       "      <th></th>\n",
       "      <th>0</th>\n",
       "      <th>1</th>\n",
       "      <th>2</th>\n",
       "      <th>3</th>\n",
       "      <th>4</th>\n",
       "      <th>5</th>\n",
       "      <th>6</th>\n",
       "      <th>7</th>\n",
       "      <th>8</th>\n",
       "      <th>9</th>\n",
       "      <th>...</th>\n",
       "      <th>591</th>\n",
       "      <th>592</th>\n",
       "      <th>593</th>\n",
       "      <th>594</th>\n",
       "      <th>595</th>\n",
       "      <th>596</th>\n",
       "      <th>597</th>\n",
       "      <th>598</th>\n",
       "      <th>599</th>\n",
       "      <th>600</th>\n",
       "    </tr>\n",
       "  </thead>\n",
       "  <tbody>\n",
       "    <tr>\n",
       "      <th>33055</th>\n",
       "      <td>-0.049068</td>\n",
       "      <td>0.013104</td>\n",
       "      <td>0.075180</td>\n",
       "      <td>0.122488</td>\n",
       "      <td>0.247975</td>\n",
       "      <td>0.495666</td>\n",
       "      <td>0.701690</td>\n",
       "      <td>0.848924</td>\n",
       "      <td>0.898229</td>\n",
       "      <td>0.842257</td>\n",
       "      <td>...</td>\n",
       "      <td>0.0</td>\n",
       "      <td>0.0</td>\n",
       "      <td>0.0</td>\n",
       "      <td>0.0</td>\n",
       "      <td>0.0</td>\n",
       "      <td>0.0</td>\n",
       "      <td>0.0</td>\n",
       "      <td>0.0</td>\n",
       "      <td>0.0</td>\n",
       "      <td>1</td>\n",
       "    </tr>\n",
       "    <tr>\n",
       "      <th>33056</th>\n",
       "      <td>-0.029308</td>\n",
       "      <td>0.076083</td>\n",
       "      <td>0.216461</td>\n",
       "      <td>0.344220</td>\n",
       "      <td>0.504467</td>\n",
       "      <td>0.732283</td>\n",
       "      <td>0.929944</td>\n",
       "      <td>0.947100</td>\n",
       "      <td>0.751166</td>\n",
       "      <td>0.454888</td>\n",
       "      <td>...</td>\n",
       "      <td>0.0</td>\n",
       "      <td>0.0</td>\n",
       "      <td>0.0</td>\n",
       "      <td>0.0</td>\n",
       "      <td>0.0</td>\n",
       "      <td>0.0</td>\n",
       "      <td>0.0</td>\n",
       "      <td>0.0</td>\n",
       "      <td>0.0</td>\n",
       "      <td>1</td>\n",
       "    </tr>\n",
       "    <tr>\n",
       "      <th>33057</th>\n",
       "      <td>0.862124</td>\n",
       "      <td>0.556975</td>\n",
       "      <td>0.251699</td>\n",
       "      <td>0.033675</td>\n",
       "      <td>-0.104614</td>\n",
       "      <td>-0.205641</td>\n",
       "      <td>-0.012216</td>\n",
       "      <td>0.036171</td>\n",
       "      <td>0.059388</td>\n",
       "      <td>0.014990</td>\n",
       "      <td>...</td>\n",
       "      <td>0.0</td>\n",
       "      <td>0.0</td>\n",
       "      <td>0.0</td>\n",
       "      <td>0.0</td>\n",
       "      <td>0.0</td>\n",
       "      <td>0.0</td>\n",
       "      <td>0.0</td>\n",
       "      <td>0.0</td>\n",
       "      <td>0.0</td>\n",
       "      <td>1</td>\n",
       "    </tr>\n",
       "    <tr>\n",
       "      <th>33058</th>\n",
       "      <td>-0.018008</td>\n",
       "      <td>0.033609</td>\n",
       "      <td>0.070579</td>\n",
       "      <td>0.024674</td>\n",
       "      <td>-0.006630</td>\n",
       "      <td>0.042465</td>\n",
       "      <td>0.064741</td>\n",
       "      <td>0.030956</td>\n",
       "      <td>-0.000402</td>\n",
       "      <td>0.036466</td>\n",
       "      <td>...</td>\n",
       "      <td>0.0</td>\n",
       "      <td>0.0</td>\n",
       "      <td>0.0</td>\n",
       "      <td>0.0</td>\n",
       "      <td>0.0</td>\n",
       "      <td>0.0</td>\n",
       "      <td>0.0</td>\n",
       "      <td>0.0</td>\n",
       "      <td>0.0</td>\n",
       "      <td>1</td>\n",
       "    </tr>\n",
       "    <tr>\n",
       "      <th>33059</th>\n",
       "      <td>0.143095</td>\n",
       "      <td>0.323831</td>\n",
       "      <td>0.565793</td>\n",
       "      <td>0.726778</td>\n",
       "      <td>0.836212</td>\n",
       "      <td>0.874479</td>\n",
       "      <td>0.699368</td>\n",
       "      <td>0.374617</td>\n",
       "      <td>0.044874</td>\n",
       "      <td>-0.142767</td>\n",
       "      <td>...</td>\n",
       "      <td>0.0</td>\n",
       "      <td>0.0</td>\n",
       "      <td>0.0</td>\n",
       "      <td>0.0</td>\n",
       "      <td>0.0</td>\n",
       "      <td>0.0</td>\n",
       "      <td>0.0</td>\n",
       "      <td>0.0</td>\n",
       "      <td>0.0</td>\n",
       "      <td>1</td>\n",
       "    </tr>\n",
       "  </tbody>\n",
       "</table>\n",
       "<p>5 rows × 601 columns</p>\n",
       "</div>"
      ],
      "text/plain": [
       "            0         1         2         3         4         5         6    \\\n",
       "33055 -0.049068  0.013104  0.075180  0.122488  0.247975  0.495666  0.701690   \n",
       "33056 -0.029308  0.076083  0.216461  0.344220  0.504467  0.732283  0.929944   \n",
       "33057  0.862124  0.556975  0.251699  0.033675 -0.104614 -0.205641 -0.012216   \n",
       "33058 -0.018008  0.033609  0.070579  0.024674 -0.006630  0.042465  0.064741   \n",
       "33059  0.143095  0.323831  0.565793  0.726778  0.836212  0.874479  0.699368   \n",
       "\n",
       "            7         8         9    ...  591  592  593  594  595  596  597  \\\n",
       "33055  0.848924  0.898229  0.842257  ...  0.0  0.0  0.0  0.0  0.0  0.0  0.0   \n",
       "33056  0.947100  0.751166  0.454888  ...  0.0  0.0  0.0  0.0  0.0  0.0  0.0   \n",
       "33057  0.036171  0.059388  0.014990  ...  0.0  0.0  0.0  0.0  0.0  0.0  0.0   \n",
       "33058  0.030956 -0.000402  0.036466  ...  0.0  0.0  0.0  0.0  0.0  0.0  0.0   \n",
       "33059  0.374617  0.044874 -0.142767  ...  0.0  0.0  0.0  0.0  0.0  0.0  0.0   \n",
       "\n",
       "       598  599  600  \n",
       "33055  0.0  0.0    1  \n",
       "33056  0.0  0.0    1  \n",
       "33057  0.0  0.0    1  \n",
       "33058  0.0  0.0    1  \n",
       "33059  0.0  0.0    1  \n",
       "\n",
       "[5 rows x 601 columns]"
      ]
     },
     "execution_count": 7,
     "metadata": {},
     "output_type": "execute_result"
    }
   ],
   "source": [
    "train_df_all.tail()"
   ]
  },
  {
   "cell_type": "code",
   "execution_count": 8,
   "metadata": {},
   "outputs": [
    {
     "name": "stdout",
     "output_type": "stream",
     "text": [
      "<class 'pandas.core.frame.DataFrame'>\n",
      "RangeIndex: 33060 entries, 0 to 33059\n",
      "Columns: 601 entries, 0 to 600\n",
      "dtypes: float64(600), int64(1)\n",
      "memory usage: 151.6 MB\n"
     ]
    }
   ],
   "source": [
    "train_df_all.info()"
   ]
  },
  {
   "cell_type": "code",
   "execution_count": 9,
   "metadata": {},
   "outputs": [
    {
     "name": "stdout",
     "output_type": "stream",
     "text": [
      "<class 'pandas.core.frame.DataFrame'>\n",
      "RangeIndex: 12906 entries, 0 to 12905\n",
      "Columns: 601 entries, 0 to 600\n",
      "dtypes: float64(601)\n",
      "memory usage: 59.2 MB\n"
     ]
    }
   ],
   "source": [
    "test_df_all.info()"
   ]
  },
  {
   "cell_type": "code",
   "execution_count": 10,
   "metadata": {},
   "outputs": [
    {
     "name": "stdout",
     "output_type": "stream",
     "text": [
      "<class 'pandas.core.frame.DataFrame'>\n",
      "RangeIndex: 41028 entries, 0 to 41027\n",
      "Columns: 601 entries, 0 to 600\n",
      "dtypes: float64(600), object(1)\n",
      "memory usage: 188.1+ MB\n"
     ]
    }
   ],
   "source": [
    "normal_df_all.info()"
   ]
  },
  {
   "cell_type": "markdown",
   "metadata": {},
   "source": [
    "### Remove Normal Sample from AFDB (train & test)"
   ]
  },
  {
   "cell_type": "code",
   "execution_count": 11,
   "metadata": {},
   "outputs": [],
   "source": [
    "train_df_AF = train_df_all[train_df_all[600] == 0]"
   ]
  },
  {
   "cell_type": "code",
   "execution_count": 12,
   "metadata": {},
   "outputs": [],
   "source": [
    "test_df_AF = test_df_all[test_df_all[600] == 0]"
   ]
  },
  {
   "cell_type": "markdown",
   "metadata": {},
   "source": [
    "### Concate Dataset"
   ]
  },
  {
   "cell_type": "code",
   "execution_count": 13,
   "metadata": {},
   "outputs": [],
   "source": [
    "normal_df_all[600] = 1"
   ]
  },
  {
   "cell_type": "code",
   "execution_count": 14,
   "metadata": {},
   "outputs": [],
   "source": [
    "df_AF_N = pd.concat([train_df_AF, test_df_AF, normal_df_all])"
   ]
  },
  {
   "cell_type": "markdown",
   "metadata": {},
   "source": [
    "### Balancing Dataset (After Merging with NSRDB)"
   ]
  },
  {
   "cell_type": "code",
   "execution_count": 15,
   "metadata": {},
   "outputs": [
    {
     "name": "stdout",
     "output_type": "stream",
     "text": [
      "1    41028\n",
      "0    22853\n",
      "Name: 600, dtype: int64\n"
     ]
    }
   ],
   "source": [
    "df_AF_N[600]=df_AF_N[600].astype(int)\n",
    "equilibre=df_AF_N[600].value_counts()\n",
    "\n",
    "print(equilibre)"
   ]
  },
  {
   "cell_type": "code",
   "execution_count": 16,
   "metadata": {},
   "outputs": [],
   "source": [
    "# sampling and resampling dataset\n",
    "\n",
    "from sklearn.utils import resample\n",
    "n_samples = 30000 \n",
    "random_states = [123, 124]\n",
    "\n",
    "dfs = []\n",
    "\n",
    "for i in range(len(equilibre)):\n",
    "    dfs.append(df_AF_N[df_AF_N[600]==i])\n",
    "    dfs[i]=resample(dfs[i],replace=True,n_samples=n_samples,random_state=random_states[i])\n",
    "\n",
    "df_AF_N_balanced =pd.concat(dfs)"
   ]
  },
  {
   "cell_type": "code",
   "execution_count": 17,
   "metadata": {},
   "outputs": [
    {
     "name": "stdout",
     "output_type": "stream",
     "text": [
      "1    30000\n",
      "0    30000\n",
      "Name: 600, dtype: int64\n"
     ]
    }
   ],
   "source": [
    "df_AF_N_balanced[600]=df_AF_N_balanced[600].astype(int)\n",
    "equilibre=df_AF_N_balanced[600].value_counts()\n",
    "\n",
    "print(equilibre)"
   ]
  },
  {
   "cell_type": "markdown",
   "metadata": {},
   "source": [
    "### Split Dataset"
   ]
  },
  {
   "cell_type": "code",
   "execution_count": 18,
   "metadata": {},
   "outputs": [],
   "source": [
    "from sklearn.model_selection import train_test_split"
   ]
  },
  {
   "cell_type": "code",
   "execution_count": 19,
   "metadata": {},
   "outputs": [],
   "source": [
    "y = df_AF_N_balanced.iloc[:, 600].values\n",
    "X = df_AF_N_balanced.iloc[:, :600].values"
   ]
  },
  {
   "cell_type": "code",
   "execution_count": 20,
   "metadata": {},
   "outputs": [],
   "source": [
    "X_train, X_test, y_train, y_test = train_test_split(\n",
    "                                    X, y, test_size=0.15, random_state=42)"
   ]
  },
  {
   "cell_type": "code",
   "execution_count": 21,
   "metadata": {},
   "outputs": [
    {
     "data": {
      "text/plain": [
       "((51000, 600), (9000, 600), (51000,), (9000,))"
      ]
     },
     "execution_count": 21,
     "metadata": {},
     "output_type": "execute_result"
    }
   ],
   "source": [
    "X_train.shape, X_test.shape, y_train.shape, y_test.shape"
   ]
  },
  {
   "cell_type": "markdown",
   "metadata": {},
   "source": [
    "### Save Dataset"
   ]
  },
  {
   "cell_type": "code",
   "execution_count": 22,
   "metadata": {},
   "outputs": [],
   "source": [
    "train_df_all = pd.DataFrame(np.hstack((X_train, np.expand_dims(y_train, 1))))"
   ]
  },
  {
   "cell_type": "code",
   "execution_count": 23,
   "metadata": {},
   "outputs": [],
   "source": [
    "test_df_all = pd.DataFrame(np.hstack((X_test, np.expand_dims(y_test, 1))))"
   ]
  },
  {
   "cell_type": "code",
   "execution_count": 24,
   "metadata": {},
   "outputs": [],
   "source": [
    "train_df_all.to_csv(dataset_folder + \"train_all-v2.csv\", index=None, header=None)"
   ]
  },
  {
   "cell_type": "code",
   "execution_count": null,
   "metadata": {},
   "outputs": [],
   "source": [
    "test_df_all.to_csv(dataset_folder + \"test_all-v2.csv\", index=None, header=None)"
   ]
  },
  {
   "cell_type": "code",
   "execution_count": null,
   "metadata": {},
   "outputs": [],
   "source": []
  }
 ],
 "metadata": {
  "kernelspec": {
   "display_name": "Python [conda env:GPU_ENV]",
   "language": "python",
   "name": "conda-env-GPU_ENV-py"
  },
  "language_info": {
   "codemirror_mode": {
    "name": "ipython",
    "version": 3
   },
   "file_extension": ".py",
   "mimetype": "text/x-python",
   "name": "python",
   "nbconvert_exporter": "python",
   "pygments_lexer": "ipython3",
   "version": "3.6.12"
  }
 },
 "nbformat": 4,
 "nbformat_minor": 4
}
