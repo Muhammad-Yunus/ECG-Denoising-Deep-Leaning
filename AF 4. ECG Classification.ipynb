{
 "cells": [
  {
   "cell_type": "markdown",
   "metadata": {},
   "source": [
    "# Load dataset"
   ]
  },
  {
   "cell_type": "code",
   "execution_count": 1,
   "metadata": {},
   "outputs": [],
   "source": [
    "labels = ['AF', 'N']\n",
    "\n",
    "fs = 250"
   ]
  },
  {
   "cell_type": "code",
   "execution_count": 2,
   "metadata": {},
   "outputs": [],
   "source": [
    "import os\n",
    "# disable GPU\n",
    "#os.environ['CUDA_VISIBLE_DEVICES'] = '-1'\n",
    "\n",
    "dataset_folder = 'dataset/'\n",
    "filenames = []\n",
    "for filename in os.listdir(dataset_folder):\n",
    "    if filename.find(\"_all_\") > -1 :\n",
    "        filenames.append(filename)"
   ]
  },
  {
   "cell_type": "code",
   "execution_count": 3,
   "metadata": {},
   "outputs": [
    {
     "data": {
      "text/plain": [
       "['test_all_Conv_AE.csv',\n",
       " 'test_all_Deep_AE.csv',\n",
       " 'test_all_LSTM_AE.csv',\n",
       " 'train_all_Conv_AE.csv',\n",
       " 'train_all_Deep_AE.csv',\n",
       " 'train_all_LSTM_AE.csv']"
      ]
     },
     "execution_count": 3,
     "metadata": {},
     "output_type": "execute_result"
    }
   ],
   "source": [
    "filenames"
   ]
  },
  {
   "cell_type": "code",
   "execution_count": 4,
   "metadata": {},
   "outputs": [
    {
     "name": "stderr",
     "output_type": "stream",
     "text": [
      "Using TensorFlow backend.\n"
     ]
    }
   ],
   "source": [
    "import pandas as pd\n",
    "import numpy as np \n",
    "import matplotlib.pyplot as plt\n",
    "\n",
    "from sklearn.metrics import classification_report\n",
    "from sklearn.metrics import f1_score\n",
    "from sklearn.metrics import confusion_matrix\n",
    "from sklearn.utils import class_weight\n",
    "\n",
    "from keras.utils.np_utils import to_categorical"
   ]
  },
  {
   "cell_type": "code",
   "execution_count": 5,
   "metadata": {},
   "outputs": [],
   "source": [
    "train_Deep_AE_df = pd.read_csv(dataset_folder + \"train_all_Deep_AE.csv\", header=None)\n",
    "train_Conv_AE_df = pd.read_csv(dataset_folder + \"train_all_Conv_AE.csv\", header=None)\n",
    "train_LSTM_AE_df = pd.read_csv(dataset_folder + \"train_all_LSTM_AE.csv\", header=None)\n",
    "\n",
    "test_Deep_AE_df = pd.read_csv(dataset_folder + \"test_all_Deep_AE.csv\", header=None)\n",
    "test_Conv_AE_df = pd.read_csv(dataset_folder + \"test_all_Conv_AE.csv\", header=None)\n",
    "test_LSTM_AE_df = pd.read_csv(dataset_folder + \"test_all_LSTM_AE.csv\", header=None)"
   ]
  },
  {
   "cell_type": "markdown",
   "metadata": {},
   "source": [
    "## Dataset AFDB\n",
    "Dataset AFDB terdiri dari 601 kolom, dimana kolom ke 601 merupakan katerori/class."
   ]
  },
  {
   "cell_type": "code",
   "execution_count": 6,
   "metadata": {},
   "outputs": [
    {
     "data": {
      "text/html": [
       "<div>\n",
       "<style scoped>\n",
       "    .dataframe tbody tr th:only-of-type {\n",
       "        vertical-align: middle;\n",
       "    }\n",
       "\n",
       "    .dataframe tbody tr th {\n",
       "        vertical-align: top;\n",
       "    }\n",
       "\n",
       "    .dataframe thead th {\n",
       "        text-align: right;\n",
       "    }\n",
       "</style>\n",
       "<table border=\"1\" class=\"dataframe\">\n",
       "  <thead>\n",
       "    <tr style=\"text-align: right;\">\n",
       "      <th></th>\n",
       "      <th>0</th>\n",
       "      <th>1</th>\n",
       "      <th>2</th>\n",
       "      <th>3</th>\n",
       "      <th>4</th>\n",
       "      <th>5</th>\n",
       "      <th>6</th>\n",
       "      <th>7</th>\n",
       "      <th>8</th>\n",
       "      <th>9</th>\n",
       "      <th>...</th>\n",
       "      <th>591</th>\n",
       "      <th>592</th>\n",
       "      <th>593</th>\n",
       "      <th>594</th>\n",
       "      <th>595</th>\n",
       "      <th>596</th>\n",
       "      <th>597</th>\n",
       "      <th>598</th>\n",
       "      <th>599</th>\n",
       "      <th>600</th>\n",
       "    </tr>\n",
       "  </thead>\n",
       "  <tbody>\n",
       "    <tr>\n",
       "      <th>0</th>\n",
       "      <td>0.763073</td>\n",
       "      <td>0.827822</td>\n",
       "      <td>0.883465</td>\n",
       "      <td>0.934945</td>\n",
       "      <td>0.925188</td>\n",
       "      <td>0.788997</td>\n",
       "      <td>0.542436</td>\n",
       "      <td>0.301277</td>\n",
       "      <td>0.154395</td>\n",
       "      <td>0.109503</td>\n",
       "      <td>...</td>\n",
       "      <td>7.158498e-06</td>\n",
       "      <td>3.497711e-06</td>\n",
       "      <td>3.709693e-06</td>\n",
       "      <td>8.191212e-06</td>\n",
       "      <td>1.521653e-06</td>\n",
       "      <td>1.500241e-06</td>\n",
       "      <td>1.651867e-06</td>\n",
       "      <td>7.023504e-07</td>\n",
       "      <td>8.986760e-07</td>\n",
       "      <td>0.0</td>\n",
       "    </tr>\n",
       "    <tr>\n",
       "      <th>1</th>\n",
       "      <td>0.832986</td>\n",
       "      <td>0.775255</td>\n",
       "      <td>0.642810</td>\n",
       "      <td>0.394954</td>\n",
       "      <td>0.144053</td>\n",
       "      <td>0.036441</td>\n",
       "      <td>0.028531</td>\n",
       "      <td>0.057411</td>\n",
       "      <td>0.145057</td>\n",
       "      <td>0.296206</td>\n",
       "      <td>...</td>\n",
       "      <td>1.072760e-03</td>\n",
       "      <td>6.267172e-04</td>\n",
       "      <td>6.427703e-04</td>\n",
       "      <td>5.820210e-04</td>\n",
       "      <td>4.743804e-04</td>\n",
       "      <td>2.995932e-04</td>\n",
       "      <td>2.805970e-04</td>\n",
       "      <td>2.714241e-04</td>\n",
       "      <td>2.705475e-04</td>\n",
       "      <td>0.0</td>\n",
       "    </tr>\n",
       "    <tr>\n",
       "      <th>2</th>\n",
       "      <td>0.933710</td>\n",
       "      <td>0.856643</td>\n",
       "      <td>0.591129</td>\n",
       "      <td>0.238996</td>\n",
       "      <td>0.055995</td>\n",
       "      <td>0.034446</td>\n",
       "      <td>0.076974</td>\n",
       "      <td>0.155931</td>\n",
       "      <td>0.261756</td>\n",
       "      <td>0.369869</td>\n",
       "      <td>...</td>\n",
       "      <td>1.308984e-04</td>\n",
       "      <td>1.042617e-04</td>\n",
       "      <td>9.170258e-05</td>\n",
       "      <td>1.117352e-04</td>\n",
       "      <td>9.092561e-05</td>\n",
       "      <td>2.857165e-05</td>\n",
       "      <td>2.875040e-05</td>\n",
       "      <td>1.785396e-05</td>\n",
       "      <td>2.622944e-05</td>\n",
       "      <td>0.0</td>\n",
       "    </tr>\n",
       "    <tr>\n",
       "      <th>3</th>\n",
       "      <td>0.844827</td>\n",
       "      <td>0.711785</td>\n",
       "      <td>0.397964</td>\n",
       "      <td>0.200146</td>\n",
       "      <td>0.106897</td>\n",
       "      <td>0.091105</td>\n",
       "      <td>0.062817</td>\n",
       "      <td>0.089077</td>\n",
       "      <td>0.156659</td>\n",
       "      <td>0.233121</td>\n",
       "      <td>...</td>\n",
       "      <td>6.668348e-06</td>\n",
       "      <td>1.367584e-06</td>\n",
       "      <td>1.796075e-06</td>\n",
       "      <td>4.193785e-06</td>\n",
       "      <td>1.352811e-06</td>\n",
       "      <td>1.621067e-06</td>\n",
       "      <td>8.179504e-07</td>\n",
       "      <td>9.644945e-07</td>\n",
       "      <td>8.116935e-07</td>\n",
       "      <td>0.0</td>\n",
       "    </tr>\n",
       "    <tr>\n",
       "      <th>4</th>\n",
       "      <td>0.879422</td>\n",
       "      <td>0.795702</td>\n",
       "      <td>0.527896</td>\n",
       "      <td>0.293152</td>\n",
       "      <td>0.087060</td>\n",
       "      <td>0.028247</td>\n",
       "      <td>0.030991</td>\n",
       "      <td>0.068579</td>\n",
       "      <td>0.143011</td>\n",
       "      <td>0.224103</td>\n",
       "      <td>...</td>\n",
       "      <td>8.470243e-10</td>\n",
       "      <td>1.953024e-10</td>\n",
       "      <td>2.193864e-10</td>\n",
       "      <td>8.468579e-10</td>\n",
       "      <td>2.492335e-10</td>\n",
       "      <td>8.075685e-11</td>\n",
       "      <td>8.478239e-11</td>\n",
       "      <td>3.455053e-11</td>\n",
       "      <td>6.119881e-11</td>\n",
       "      <td>0.0</td>\n",
       "    </tr>\n",
       "  </tbody>\n",
       "</table>\n",
       "<p>5 rows × 601 columns</p>\n",
       "</div>"
      ],
      "text/plain": [
       "        0         1         2         3         4         5         6    \\\n",
       "0  0.763073  0.827822  0.883465  0.934945  0.925188  0.788997  0.542436   \n",
       "1  0.832986  0.775255  0.642810  0.394954  0.144053  0.036441  0.028531   \n",
       "2  0.933710  0.856643  0.591129  0.238996  0.055995  0.034446  0.076974   \n",
       "3  0.844827  0.711785  0.397964  0.200146  0.106897  0.091105  0.062817   \n",
       "4  0.879422  0.795702  0.527896  0.293152  0.087060  0.028247  0.030991   \n",
       "\n",
       "        7         8         9    ...           591           592  \\\n",
       "0  0.301277  0.154395  0.109503  ...  7.158498e-06  3.497711e-06   \n",
       "1  0.057411  0.145057  0.296206  ...  1.072760e-03  6.267172e-04   \n",
       "2  0.155931  0.261756  0.369869  ...  1.308984e-04  1.042617e-04   \n",
       "3  0.089077  0.156659  0.233121  ...  6.668348e-06  1.367584e-06   \n",
       "4  0.068579  0.143011  0.224103  ...  8.470243e-10  1.953024e-10   \n",
       "\n",
       "            593           594           595           596           597  \\\n",
       "0  3.709693e-06  8.191212e-06  1.521653e-06  1.500241e-06  1.651867e-06   \n",
       "1  6.427703e-04  5.820210e-04  4.743804e-04  2.995932e-04  2.805970e-04   \n",
       "2  9.170258e-05  1.117352e-04  9.092561e-05  2.857165e-05  2.875040e-05   \n",
       "3  1.796075e-06  4.193785e-06  1.352811e-06  1.621067e-06  8.179504e-07   \n",
       "4  2.193864e-10  8.468579e-10  2.492335e-10  8.075685e-11  8.478239e-11   \n",
       "\n",
       "            598           599  600  \n",
       "0  7.023504e-07  8.986760e-07  0.0  \n",
       "1  2.714241e-04  2.705475e-04  0.0  \n",
       "2  1.785396e-05  2.622944e-05  0.0  \n",
       "3  9.644945e-07  8.116935e-07  0.0  \n",
       "4  3.455053e-11  6.119881e-11  0.0  \n",
       "\n",
       "[5 rows x 601 columns]"
      ]
     },
     "execution_count": 6,
     "metadata": {},
     "output_type": "execute_result"
    }
   ],
   "source": [
    "train_Deep_AE_df.head()"
   ]
  },
  {
   "cell_type": "code",
   "execution_count": 7,
   "metadata": {},
   "outputs": [
    {
     "name": "stdout",
     "output_type": "stream",
     "text": [
      "<class 'pandas.core.frame.DataFrame'>\n",
      "RangeIndex: 33060 entries, 0 to 33059\n",
      "Columns: 601 entries, 0 to 600\n",
      "dtypes: float64(601)\n",
      "memory usage: 151.6 MB\n"
     ]
    }
   ],
   "source": [
    "train_Deep_AE_df.info()"
   ]
  },
  {
   "cell_type": "code",
   "execution_count": 8,
   "metadata": {},
   "outputs": [
    {
     "name": "stdout",
     "output_type": "stream",
     "text": [
      "<class 'pandas.core.frame.DataFrame'>\n",
      "RangeIndex: 12906 entries, 0 to 12905\n",
      "Columns: 601 entries, 0 to 600\n",
      "dtypes: float64(601)\n",
      "memory usage: 59.2 MB\n"
     ]
    }
   ],
   "source": [
    "test_Deep_AE_df.info()"
   ]
  },
  {
   "cell_type": "code",
   "execution_count": 9,
   "metadata": {},
   "outputs": [],
   "source": [
    "def plot_noised_signal(signal, title=\"Sequence Signal\"):\n",
    "    time = np.arange(len(signal[0])) / fs\n",
    "    \n",
    "    plt.figure(figsize=(7,4)) \n",
    "\n",
    "    plt.plot(time, signal[0])\n",
    "    plt.plot(time, signal[1])\n",
    "    plt.legend(['channel 1', 'channel 2'])\n",
    "    plt.title(title)\n",
    "    plt.grid()\n",
    "\n",
    "    plt.tight_layout()\n",
    "    plt.show()"
   ]
  },
  {
   "cell_type": "markdown",
   "metadata": {},
   "source": [
    "- Prepare training set dan test set"
   ]
  },
  {
   "cell_type": "code",
   "execution_count": 38,
   "metadata": {},
   "outputs": [],
   "source": [
    "denoised = 'Conv-AE' # isi dengan 'Deep-AE', 'Conv-AE', 'LSTM-AE' untuk memilih sumber dataset dari hasil denoising tsb.\n",
    "\n",
    "train_df = train_Deep_AE_df if denoised == 'Deep-AE' else train_Conv_AE_df if denoised == 'Conv-AE' else train_LSTM_AE_df\n",
    "test_df = test_Deep_AE_df if denoised == 'Deep-AE' else test_Conv_AE_df if denoised == 'Conv-AE' else test_LSTM_AE_df"
   ]
  },
  {
   "cell_type": "code",
   "execution_count": 39,
   "metadata": {},
   "outputs": [],
   "source": [
    "target_train = train_df[600]\n",
    "target_test = test_df[600]\n",
    "y_train=to_categorical(target_train)\n",
    "y_test=to_categorical(target_test)"
   ]
  },
  {
   "cell_type": "code",
   "execution_count": 40,
   "metadata": {},
   "outputs": [],
   "source": [
    "X_train=train_df.iloc[:,:600].values\n",
    "X_test=test_df.iloc[:,:600].values\n",
    "\n",
    "X_train = X_train.reshape(len(X_train), X_train.shape[1],1)\n",
    "X_test = X_test.reshape(len(X_test), X_test.shape[1],1)"
   ]
  },
  {
   "cell_type": "code",
   "execution_count": 41,
   "metadata": {},
   "outputs": [
    {
     "data": {
      "image/png": "[encoded data removed]",
      "text/plain": [
       "<Figure size 504x288 with 1 Axes>"
      ]
     },
     "metadata": {
      "needs_background": "light"
     },
     "output_type": "display_data"
    }
   ],
   "source": [
    "signal = np.reshape(X_train[0], (2, 300))\n",
    "\n",
    "plot_noised_signal(signal, title=\"Sequence Signal - Denoided by Conv AE\")"
   ]
  },
  {
   "cell_type": "markdown",
   "metadata": {},
   "source": [
    "## Building Convolutional Neural Network\n",
    "\n",
    "- Import Keras library"
   ]
  },
  {
   "cell_type": "code",
   "execution_count": 42,
   "metadata": {},
   "outputs": [],
   "source": [
    "\n",
    "from keras.models import Sequential\n",
    "from keras.layers import Dense, Conv1D, MaxPool1D, Flatten, Dropout\n",
    "from keras.layers import Input\n",
    "from keras.models import Model\n",
    "from keras.layers.normalization import BatchNormalization\n",
    "from keras.callbacks import EarlyStopping, ModelCheckpoint\n",
    "\n",
    "import keras"
   ]
  },
  {
   "cell_type": "markdown",
   "metadata": {},
   "source": [
    "- Buat CNN Model dengan aritektur network : \n",
    "`CONV-POOL-CONV-POOL-CONV-POOL-FC`\n",
    "- CONV : 1D Convolutional Layer\n",
    "- POOL : MAX Pooling Layer\n",
    "- FC   : Dense Layer + Activation"
   ]
  },
  {
   "cell_type": "code",
   "execution_count": 43,
   "metadata": {},
   "outputs": [],
   "source": [
    "def cnn_model(max_len):\n",
    "    \n",
    "    model = Sequential()\n",
    "    \n",
    "    model.add(Conv1D(filters=64,\n",
    "                     kernel_size=6,\n",
    "                     activation='relu',\n",
    "                     input_shape=(max_len, 1)))\n",
    "    model.add(BatchNormalization())\n",
    "    model.add(MaxPool1D(pool_size=3,\n",
    "                        strides=2,\n",
    "                        padding='same'))\n",
    "    \n",
    "    \n",
    "    model.add(Conv1D(filters=64,\n",
    "                     kernel_size=6,\n",
    "                     activation='relu'))\n",
    "    model.add(BatchNormalization())\n",
    "    model.add(MaxPool1D(pool_size=2,\n",
    "                        strides=2,\n",
    "                        padding='same'))\n",
    "    \n",
    "    \n",
    "    model.add(Conv1D(filters=64,\n",
    "                     kernel_size=3,\n",
    "                     activation='relu'))\n",
    "    model.add(BatchNormalization())\n",
    "    model.add(MaxPool1D(pool_size=2,\n",
    "                        strides=2,\n",
    "                        padding='same'))\n",
    "    \n",
    "    \n",
    "    # Fully Connected layer (FC)\n",
    "    model.add(Flatten())\n",
    "    model.add(Dense(64, \n",
    "                    activation='relu'))\n",
    "    model.add(Dense(32, \n",
    "                    activation='relu'))\n",
    "    model.add(Dense(2, \n",
    "                    activation='softmax'))\n",
    "              \n",
    "    model.summary()\n",
    "    model.compile(optimizer='adam', \n",
    "                  loss='categorical_crossentropy',\n",
    "                  metrics = ['accuracy'])\n",
    "\n",
    "    return model"
   ]
  },
  {
   "cell_type": "markdown",
   "metadata": {},
   "source": [
    "- sekarang kita akan melakukan proses training model dengan memanfaatkan `.fit()` pada model yang kita buat diatas.\n",
    "- selain itu kita gunakan juka teknik `EarlyStoping()` untuk menghentikan proses training jika terjadi divergensi pada validation data yang diakibatkan oleh overfitting. \n",
    "- pada `EarlyStoping()` kita gunakan parmeter `patience=8` yang artinya jika proses training untuk 8 epoch tidak terjadi peningkatan maka hentikan proses training."
   ]
  },
  {
   "cell_type": "code",
   "execution_count": 44,
   "metadata": {},
   "outputs": [],
   "source": [
    "def check_model(model_, x, y, x_val, y_val, epochs_, batch_size_):\n",
    "    callbacks = [EarlyStopping(monitor='val_loss', patience=3),\n",
    "                 ModelCheckpoint(filepath='best_model.h5', monitor='val_loss', save_best_only=True)]\n",
    "\n",
    "    hist = model_.fit(x, \n",
    "                      y,\n",
    "                      epochs=epochs_,\n",
    "                      callbacks=callbacks, \n",
    "                      batch_size=batch_size_,\n",
    "                      validation_data=(x_val,y_val))\n",
    "    model_.load_weights('best_model.h5')\n",
    "    return hist "
   ]
  },
  {
   "cell_type": "markdown",
   "metadata": {},
   "source": [
    "### Train Model CNN"
   ]
  },
  {
   "cell_type": "markdown",
   "metadata": {},
   "source": [
    "- jalankan proses training dengan `EPOCH` sebanyak 16 dan `BATCH_SIZE` sebesar 32"
   ]
  },
  {
   "cell_type": "code",
   "execution_count": 45,
   "metadata": {},
   "outputs": [
    {
     "name": "stdout",
     "output_type": "stream",
     "text": [
      "_________________________________________________________________\n",
      "Layer (type)                 Output Shape              Param #   \n",
      "=================================================================\n",
      "conv1d_7 (Conv1D)            (None, 595, 64)           448       \n",
      "_________________________________________________________________\n",
      "batch_normalization_7 (Batch (None, 595, 64)           256       \n",
      "_________________________________________________________________\n",
      "max_pooling1d_7 (MaxPooling1 (None, 298, 64)           0         \n",
      "_________________________________________________________________\n",
      "conv1d_8 (Conv1D)            (None, 293, 64)           24640     \n",
      "_________________________________________________________________\n",
      "batch_normalization_8 (Batch (None, 293, 64)           256       \n",
      "_________________________________________________________________\n",
      "max_pooling1d_8 (MaxPooling1 (None, 147, 64)           0         \n",
      "_________________________________________________________________\n",
      "conv1d_9 (Conv1D)            (None, 145, 64)           12352     \n",
      "_________________________________________________________________\n",
      "batch_normalization_9 (Batch (None, 145, 64)           256       \n",
      "_________________________________________________________________\n",
      "max_pooling1d_9 (MaxPooling1 (None, 73, 64)            0         \n",
      "_________________________________________________________________\n",
      "flatten_3 (Flatten)          (None, 4672)              0         \n",
      "_________________________________________________________________\n",
      "dense_7 (Dense)              (None, 64)                299072    \n",
      "_________________________________________________________________\n",
      "dense_8 (Dense)              (None, 32)                2080      \n",
      "_________________________________________________________________\n",
      "dense_9 (Dense)              (None, 2)                 66        \n",
      "=================================================================\n",
      "Total params: 339,426\n",
      "Trainable params: 339,042\n",
      "Non-trainable params: 384\n",
      "_________________________________________________________________\n",
      "Train on 33060 samples, validate on 12906 samples\n",
      "Epoch 1/16\n",
      "33060/33060 [==============================] - 99s 3ms/step - loss: 0.3243 - acc: 0.8647 - val_loss: 0.3721 - val_acc: 0.8397\n",
      "Epoch 2/16\n",
      "33060/33060 [==============================] - 100s 3ms/step - loss: 0.2249 - acc: 0.9076 - val_loss: 0.2666 - val_acc: 0.8897\n",
      "Epoch 3/16\n",
      "33060/33060 [==============================] - 100s 3ms/step - loss: 0.1715 - acc: 0.9301 - val_loss: 0.2506 - val_acc: 0.9001\n",
      "Epoch 4/16\n",
      "33060/33060 [==============================] - 100s 3ms/step - loss: 0.1391 - acc: 0.9453 - val_loss: 0.2066 - val_acc: 0.9219\n",
      "Epoch 5/16\n",
      "33060/33060 [==============================] - 100s 3ms/step - loss: 0.1199 - acc: 0.9530 - val_loss: 0.2333 - val_acc: 0.9180\n",
      "Epoch 6/16\n",
      "33060/33060 [==============================] - 100s 3ms/step - loss: 0.0995 - acc: 0.9603 - val_loss: 0.2040 - val_acc: 0.9282\n",
      "Epoch 7/16\n",
      "33060/33060 [==============================] - 100s 3ms/step - loss: 0.0879 - acc: 0.9647 - val_loss: 0.2254 - val_acc: 0.9296\n",
      "Epoch 8/16\n",
      "33060/33060 [==============================] - 103s 3ms/step - loss: 0.0752 - acc: 0.9708 - val_loss: 0.2382 - val_acc: 0.9292\n",
      "Epoch 9/16\n",
      "33060/33060 [==============================] - 180s 5ms/step - loss: 0.0664 - acc: 0.9736 - val_loss: 0.2733 - val_acc: 0.9216\n"
     ]
    }
   ],
   "source": [
    "max_len = X_train.shape[1]  \n",
    "\n",
    "EPOCHS = 16\n",
    "BATCH_SIZE = 32\n",
    "\n",
    "model = cnn_model(max_len)\n",
    "history=check_model(model, X_train,y_train,X_test,y_test, EPOCHS, BATCH_SIZE)"
   ]
  },
  {
   "cell_type": "markdown",
   "metadata": {},
   "source": [
    "- Save model"
   ]
  },
  {
   "cell_type": "code",
   "execution_count": 46,
   "metadata": {},
   "outputs": [],
   "source": [
    "model.save(\"CNN_Classification_model_%s.h5\" % denoised)"
   ]
  },
  {
   "cell_type": "markdown",
   "metadata": {},
   "source": [
    "- save model training history (log)"
   ]
  },
  {
   "cell_type": "code",
   "execution_count": 47,
   "metadata": {},
   "outputs": [],
   "source": [
    "pd.DataFrame.from_dict(history.history).to_csv('history_train_classif_cnn_denoising_%s.csv' % denoised,index=False)"
   ]
  },
  {
   "cell_type": "markdown",
   "metadata": {},
   "source": [
    "# Evaluate Model\n",
    "\n",
    "- Plot Accuracy vs Epochs\n",
    "- Plot Loss vs Epochs\n",
    "- Plot Confusion Matrix"
   ]
  },
  {
   "cell_type": "code",
   "execution_count": 48,
   "metadata": {},
   "outputs": [
    {
     "data": {
      "image/png": "[encoded data removed]",
      "text/plain": [
       "<Figure size 432x288 with 1 Axes>"
      ]
     },
     "metadata": {
      "needs_background": "light"
     },
     "output_type": "display_data"
    },
    {
     "data": {
      "image/png": "[encoded data removed]",
      "text/plain": [
       "<Figure size 432x288 with 1 Axes>"
      ]
     },
     "metadata": {
      "needs_background": "light"
     },
     "output_type": "display_data"
    }
   ],
   "source": [
    "def evaluate_model(history, X_test, y_test):\n",
    "    \n",
    "    fig1, ax_acc = plt.subplots()\n",
    "    plt.plot(history.history['acc'])\n",
    "    plt.plot(history.history['val_acc'])\n",
    "    plt.xlabel('Epoch')\n",
    "    plt.ylabel('Accuracy')\n",
    "    plt.title('Model - Accuracy')\n",
    "    plt.legend(['Training', 'Validation'], loc='lower right')\n",
    "    plt.grid()\n",
    "    plt.show()\n",
    "    \n",
    "    fig2, ax_loss = plt.subplots()\n",
    "    plt.plot(history.history['loss'])\n",
    "    plt.plot(history.history['val_loss'])\n",
    "    plt.xlabel('Epoch')\n",
    "    plt.ylabel('Loss')\n",
    "    plt.title('Model- Loss')\n",
    "    plt.legend(['Training', 'Validation'], loc='upper right')\n",
    "    plt.grid()\n",
    "    plt.show()\n",
    "\n",
    "evaluate_model(history, X_test, y_test)    "
   ]
  },
  {
   "cell_type": "markdown",
   "metadata": {},
   "source": [
    "- Dari hasil diatas kita bisa melihat jika akurasi training set = 0.99, sedangkan untuk akurasi validation set = 0.97\n",
    "- Untuk plot loss training set = 0.01 sedangkan untuk loss validation set = 0.13"
   ]
  },
  {
   "cell_type": "code",
   "execution_count": 49,
   "metadata": {},
   "outputs": [],
   "source": [
    "import itertools\n",
    "def plot_confusion_matrix(cm, classes,\n",
    "                          normalize=False,\n",
    "                          title='Confusion matrix',\n",
    "                          cmap=plt.cm.Blues):\n",
    "    if normalize:\n",
    "        cm = cm.astype('float') / cm.sum(axis=1)[:, np.newaxis]\n",
    "\n",
    "    plt.figure(figsize=(5, 5))\n",
    "    \n",
    "    plt.imshow(cm, interpolation='nearest', cmap=cmap)\n",
    "    plt.title(title)\n",
    "    plt.colorbar()\n",
    "    tick_marks = np.arange(len(classes))\n",
    "    plt.xticks(tick_marks, classes, rotation=45)\n",
    "    plt.yticks(tick_marks, classes)\n",
    "\n",
    "    fmt = '.2f' if normalize else 'd'\n",
    "    thresh = cm.max() / 2.\n",
    "    for i, j in itertools.product(range(cm.shape[0]), range(cm.shape[1])):\n",
    "        plt.text(j, i, format(cm[i, j], fmt),\n",
    "                 horizontalalignment=\"center\",\n",
    "                 color=\"white\" if cm[i, j] > thresh else \"black\")\n",
    "\n",
    "    plt.tight_layout()\n",
    "    plt.ylabel('True label')\n",
    "    plt.xlabel('Predicted label')\n",
    "    plt.show()"
   ]
  },
  {
   "cell_type": "code",
   "execution_count": 50,
   "metadata": {},
   "outputs": [
    {
     "data": {
      "image/png": "[encoded data removed]",
      "text/plain": [
       "<Figure size 360x360 with 2 Axes>"
      ]
     },
     "metadata": {
      "needs_background": "light"
     },
     "output_type": "display_data"
    }
   ],
   "source": [
    "# predict test data\n",
    "y_pred=model.predict(X_test)\n",
    "\n",
    "\n",
    "# Compute confusion matrix\n",
    "cnf_matrix = confusion_matrix(y_test.argmax(axis=1), y_pred.argmax(axis=1))\n",
    "np.set_printoptions(precision=2)\n",
    "\n",
    "\n",
    "# Plot non-normalized confusion matrix\n",
    "plot_confusion_matrix(cnf_matrix, classes=['AF', 'N'],normalize=True,\n",
    "                      title='Confusion matrix, with normalization')\n"
   ]
  },
  {
   "cell_type": "markdown",
   "metadata": {},
   "source": [
    "- dari hasil plot confusion matrix, dapat dilihat tiap kelas memiliki banyak TRUE POSITIVE predicted data\n",
    "- semakin gelap kebiruan menunjukan banyaknya hasil predicted label untuk true label tersebut"
   ]
  },
  {
   "cell_type": "code",
   "execution_count": 51,
   "metadata": {},
   "outputs": [
    {
     "name": "stdout",
     "output_type": "stream",
     "text": [
      "              precision    recall  f1-score   support\n",
      "\n",
      "          AF       0.94      0.91      0.93      6323\n",
      "           N       0.92      0.94      0.93      6583\n",
      "\n",
      "    accuracy                           0.93     12906\n",
      "   macro avg       0.93      0.93      0.93     12906\n",
      "weighted avg       0.93      0.93      0.93     12906\n",
      "\n"
     ]
    }
   ],
   "source": [
    "print(classification_report(y_test.argmax(axis=1), \n",
    "                            y_pred.argmax(axis=1), \n",
    "                            target_names=['AF', 'N']))"
   ]
  },
  {
   "cell_type": "markdown",
   "metadata": {},
   "source": [
    "- Jika kita lihat, nilai report untuk seluruh klas juga bagus, \n",
    "- Nilai recall dan precission juga tinggi, menunjukan model mampu memprediksi data dengan baik untuk seluruh data pada sclass tersebut "
   ]
  },
  {
   "cell_type": "code",
   "execution_count": null,
   "metadata": {},
   "outputs": [],
   "source": []
  }
 ],
 "metadata": {
  "kernelspec": {
   "display_name": "Python [conda env:GPU_ENV]",
   "language": "python",
   "name": "conda-env-GPU_ENV-py"
  },
  "language_info": {
   "codemirror_mode": {
    "name": "ipython",
    "version": 3
   },
   "file_extension": ".py",
   "mimetype": "text/x-python",
   "name": "python",
   "nbconvert_exporter": "python",
   "pygments_lexer": "ipython3",
   "version": "3.6.12"
  }
 },
 "nbformat": 4,
 "nbformat_minor": 4
}
