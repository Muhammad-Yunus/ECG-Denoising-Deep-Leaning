{
 "cells": [
  {
   "cell_type": "markdown",
   "metadata": {},
   "source": [
    "# Load dataset"
   ]
  },
  {
   "cell_type": "code",
   "execution_count": 23,
   "metadata": {},
   "outputs": [],
   "source": [
    "labels = ['AF', 'N']\n",
    "\n",
    "fs = 250"
   ]
  },
  {
   "cell_type": "code",
   "execution_count": 2,
   "metadata": {},
   "outputs": [],
   "source": [
    "import os\n",
    "# disable GPU\n",
    "#os.environ['CUDA_VISIBLE_DEVICES'] = '-1'\n",
    "\n",
    "dataset_folder = 'dataset/'\n",
    "filenames = []\n",
    "for filename in os.listdir(dataset_folder):\n",
    "    if filename.find(\"_all_\") > -1 :\n",
    "        filenames.append(filename)"
   ]
  },
  {
   "cell_type": "code",
   "execution_count": 3,
   "metadata": {},
   "outputs": [
    {
     "data": {
      "text/plain": [
       "['test_all_Conv_AE.csv',\n",
       " 'test_all_Deep_AE.csv',\n",
       " 'test_all_LSTM_AE.csv',\n",
       " 'train_all_Conv_AE.csv',\n",
       " 'train_all_Deep_AE.csv',\n",
       " 'train_all_LSTM_AE.csv']"
      ]
     },
     "execution_count": 3,
     "metadata": {},
     "output_type": "execute_result"
    }
   ],
   "source": [
    "filenames"
   ]
  },
  {
   "cell_type": "code",
   "execution_count": 4,
   "metadata": {},
   "outputs": [],
   "source": [
    "import pandas as pd\n",
    "import numpy as np \n",
    "import matplotlib.pyplot as plt\n",
    "\n",
    "from sklearn.metrics import classification_report\n",
    "from sklearn.metrics import f1_score\n",
    "from sklearn.metrics import confusion_matrix\n",
    "from sklearn.utils import class_weight\n"
   ]
  },
  {
   "cell_type": "code",
   "execution_count": 10,
   "metadata": {},
   "outputs": [],
   "source": [
    "train_Deep_AE_df = pd.read_csv(dataset_folder + \"train_all_Deep_AE.csv\", header=None)\n",
    "train_Conv_AE_df = pd.read_csv(dataset_folder + \"train_all_Conv_AE.csv\", header=None)\n",
    "train_LSTM_AE_df = pd.read_csv(dataset_folder + \"train_all_LSTM_AE.csv\", header=None)\n",
    "\n",
    "test_Deep_AE_df = pd.read_csv(dataset_folder + \"test_all_Deep_AE.csv\", header=None)\n",
    "test_Conv_AE_df = pd.read_csv(dataset_folder + \"test_all_Conv_AE.csv\", header=None)\n",
    "test_LSTM_AE_df = pd.read_csv(dataset_folder + \"test_all_LSTM_AE.csv\", header=None)"
   ]
  },
  {
   "cell_type": "markdown",
   "metadata": {},
   "source": [
    "## Dataset AFDB\n",
    "Dataset AFDB terdiri dari 601 kolom, dimana kolom ke 601 merupakan katerori/class."
   ]
  },
  {
   "cell_type": "code",
   "execution_count": 11,
   "metadata": {},
   "outputs": [
    {
     "data": {
      "text/html": [
       "<div>\n",
       "<style scoped>\n",
       "    .dataframe tbody tr th:only-of-type {\n",
       "        vertical-align: middle;\n",
       "    }\n",
       "\n",
       "    .dataframe tbody tr th {\n",
       "        vertical-align: top;\n",
       "    }\n",
       "\n",
       "    .dataframe thead th {\n",
       "        text-align: right;\n",
       "    }\n",
       "</style>\n",
       "<table border=\"1\" class=\"dataframe\">\n",
       "  <thead>\n",
       "    <tr style=\"text-align: right;\">\n",
       "      <th></th>\n",
       "      <th>0</th>\n",
       "      <th>1</th>\n",
       "      <th>2</th>\n",
       "      <th>3</th>\n",
       "      <th>4</th>\n",
       "      <th>5</th>\n",
       "      <th>6</th>\n",
       "      <th>7</th>\n",
       "      <th>8</th>\n",
       "      <th>9</th>\n",
       "      <th>...</th>\n",
       "      <th>591</th>\n",
       "      <th>592</th>\n",
       "      <th>593</th>\n",
       "      <th>594</th>\n",
       "      <th>595</th>\n",
       "      <th>596</th>\n",
       "      <th>597</th>\n",
       "      <th>598</th>\n",
       "      <th>599</th>\n",
       "      <th>600</th>\n",
       "    </tr>\n",
       "  </thead>\n",
       "  <tbody>\n",
       "    <tr>\n",
       "      <th>0</th>\n",
       "      <td>0.632663</td>\n",
       "      <td>0.767789</td>\n",
       "      <td>0.864577</td>\n",
       "      <td>0.935467</td>\n",
       "      <td>0.944087</td>\n",
       "      <td>0.900276</td>\n",
       "      <td>0.708986</td>\n",
       "      <td>0.373540</td>\n",
       "      <td>0.154497</td>\n",
       "      <td>0.107304</td>\n",
       "      <td>...</td>\n",
       "      <td>4.121668e-05</td>\n",
       "      <td>1.831808e-04</td>\n",
       "      <td>1.492327e-04</td>\n",
       "      <td>1.696155e-04</td>\n",
       "      <td>9.824049e-05</td>\n",
       "      <td>5.592161e-06</td>\n",
       "      <td>5.138358e-06</td>\n",
       "      <td>5.632513e-06</td>\n",
       "      <td>2.992386e-06</td>\n",
       "      <td>0.0</td>\n",
       "    </tr>\n",
       "    <tr>\n",
       "      <th>1</th>\n",
       "      <td>0.895406</td>\n",
       "      <td>0.834951</td>\n",
       "      <td>0.683515</td>\n",
       "      <td>0.439529</td>\n",
       "      <td>0.158169</td>\n",
       "      <td>0.063812</td>\n",
       "      <td>0.064302</td>\n",
       "      <td>0.096957</td>\n",
       "      <td>0.161737</td>\n",
       "      <td>0.248660</td>\n",
       "      <td>...</td>\n",
       "      <td>4.696300e-05</td>\n",
       "      <td>4.625818e-05</td>\n",
       "      <td>3.124303e-05</td>\n",
       "      <td>4.354742e-05</td>\n",
       "      <td>6.636993e-05</td>\n",
       "      <td>2.027233e-04</td>\n",
       "      <td>2.749568e-04</td>\n",
       "      <td>2.060327e-04</td>\n",
       "      <td>1.761257e-04</td>\n",
       "      <td>0.0</td>\n",
       "    </tr>\n",
       "    <tr>\n",
       "      <th>2</th>\n",
       "      <td>0.913100</td>\n",
       "      <td>0.811433</td>\n",
       "      <td>0.537376</td>\n",
       "      <td>0.296211</td>\n",
       "      <td>0.150492</td>\n",
       "      <td>0.171120</td>\n",
       "      <td>0.200182</td>\n",
       "      <td>0.262127</td>\n",
       "      <td>0.338210</td>\n",
       "      <td>0.408961</td>\n",
       "      <td>...</td>\n",
       "      <td>4.343252e-06</td>\n",
       "      <td>6.086148e-06</td>\n",
       "      <td>6.629699e-06</td>\n",
       "      <td>6.188178e-06</td>\n",
       "      <td>2.562976e-06</td>\n",
       "      <td>8.765869e-08</td>\n",
       "      <td>2.100546e-07</td>\n",
       "      <td>1.182782e-07</td>\n",
       "      <td>8.957534e-08</td>\n",
       "      <td>0.0</td>\n",
       "    </tr>\n",
       "    <tr>\n",
       "      <th>3</th>\n",
       "      <td>0.942682</td>\n",
       "      <td>0.866716</td>\n",
       "      <td>0.560620</td>\n",
       "      <td>0.251827</td>\n",
       "      <td>0.101149</td>\n",
       "      <td>0.078799</td>\n",
       "      <td>0.090250</td>\n",
       "      <td>0.153481</td>\n",
       "      <td>0.217021</td>\n",
       "      <td>0.315786</td>\n",
       "      <td>...</td>\n",
       "      <td>1.264473e-08</td>\n",
       "      <td>1.074123e-07</td>\n",
       "      <td>7.949616e-08</td>\n",
       "      <td>1.399286e-07</td>\n",
       "      <td>1.324124e-07</td>\n",
       "      <td>1.086987e-08</td>\n",
       "      <td>1.479909e-08</td>\n",
       "      <td>2.243105e-08</td>\n",
       "      <td>2.324994e-08</td>\n",
       "      <td>0.0</td>\n",
       "    </tr>\n",
       "    <tr>\n",
       "      <th>4</th>\n",
       "      <td>0.942231</td>\n",
       "      <td>0.843043</td>\n",
       "      <td>0.447637</td>\n",
       "      <td>0.152531</td>\n",
       "      <td>0.062975</td>\n",
       "      <td>0.095698</td>\n",
       "      <td>0.129870</td>\n",
       "      <td>0.224229</td>\n",
       "      <td>0.349856</td>\n",
       "      <td>0.433476</td>\n",
       "      <td>...</td>\n",
       "      <td>9.701295e-10</td>\n",
       "      <td>2.182164e-08</td>\n",
       "      <td>9.076889e-09</td>\n",
       "      <td>1.920017e-08</td>\n",
       "      <td>1.955337e-08</td>\n",
       "      <td>1.722543e-09</td>\n",
       "      <td>1.340645e-09</td>\n",
       "      <td>3.830772e-09</td>\n",
       "      <td>3.773626e-09</td>\n",
       "      <td>0.0</td>\n",
       "    </tr>\n",
       "  </tbody>\n",
       "</table>\n",
       "<p>5 rows × 601 columns</p>\n",
       "</div>"
      ],
      "text/plain": [
       "        0         1         2         3         4         5         6    \\\n",
       "0  0.632663  0.767789  0.864577  0.935467  0.944087  0.900276  0.708986   \n",
       "1  0.895406  0.834951  0.683515  0.439529  0.158169  0.063812  0.064302   \n",
       "2  0.913100  0.811433  0.537376  0.296211  0.150492  0.171120  0.200182   \n",
       "3  0.942682  0.866716  0.560620  0.251827  0.101149  0.078799  0.090250   \n",
       "4  0.942231  0.843043  0.447637  0.152531  0.062975  0.095698  0.129870   \n",
       "\n",
       "        7         8         9    ...           591           592  \\\n",
       "0  0.373540  0.154497  0.107304  ...  4.121668e-05  1.831808e-04   \n",
       "1  0.096957  0.161737  0.248660  ...  4.696300e-05  4.625818e-05   \n",
       "2  0.262127  0.338210  0.408961  ...  4.343252e-06  6.086148e-06   \n",
       "3  0.153481  0.217021  0.315786  ...  1.264473e-08  1.074123e-07   \n",
       "4  0.224229  0.349856  0.433476  ...  9.701295e-10  2.182164e-08   \n",
       "\n",
       "            593           594           595           596           597  \\\n",
       "0  1.492327e-04  1.696155e-04  9.824049e-05  5.592161e-06  5.138358e-06   \n",
       "1  3.124303e-05  4.354742e-05  6.636993e-05  2.027233e-04  2.749568e-04   \n",
       "2  6.629699e-06  6.188178e-06  2.562976e-06  8.765869e-08  2.100546e-07   \n",
       "3  7.949616e-08  1.399286e-07  1.324124e-07  1.086987e-08  1.479909e-08   \n",
       "4  9.076889e-09  1.920017e-08  1.955337e-08  1.722543e-09  1.340645e-09   \n",
       "\n",
       "            598           599  600  \n",
       "0  5.632513e-06  2.992386e-06  0.0  \n",
       "1  2.060327e-04  1.761257e-04  0.0  \n",
       "2  1.182782e-07  8.957534e-08  0.0  \n",
       "3  2.243105e-08  2.324994e-08  0.0  \n",
       "4  3.830772e-09  3.773626e-09  0.0  \n",
       "\n",
       "[5 rows x 601 columns]"
      ]
     },
     "execution_count": 11,
     "metadata": {},
     "output_type": "execute_result"
    }
   ],
   "source": [
    "train_Deep_AE_df.head()"
   ]
  },
  {
   "cell_type": "code",
   "execution_count": 12,
   "metadata": {},
   "outputs": [
    {
     "name": "stdout",
     "output_type": "stream",
     "text": [
      "<class 'pandas.core.frame.DataFrame'>\n",
      "RangeIndex: 33060 entries, 0 to 33059\n",
      "Columns: 601 entries, 0 to 600\n",
      "dtypes: float64(601)\n",
      "memory usage: 151.6 MB\n"
     ]
    }
   ],
   "source": [
    "train_Deep_AE_df.info()"
   ]
  },
  {
   "cell_type": "code",
   "execution_count": 13,
   "metadata": {},
   "outputs": [
    {
     "name": "stdout",
     "output_type": "stream",
     "text": [
      "<class 'pandas.core.frame.DataFrame'>\n",
      "RangeIndex: 12906 entries, 0 to 12905\n",
      "Columns: 601 entries, 0 to 600\n",
      "dtypes: float64(601)\n",
      "memory usage: 59.2 MB\n"
     ]
    }
   ],
   "source": [
    "test_Deep_AE_df.info()"
   ]
  },
  {
   "cell_type": "code",
   "execution_count": 25,
   "metadata": {},
   "outputs": [],
   "source": [
    "def plot_noised_signal(signal, title=\"Sequence Signal\"):\n",
    "    time = np.arange(len(signal[0])) / fs\n",
    "    \n",
    "    plt.figure(figsize=(7,4)) \n",
    "\n",
    "    plt.plot(time, signal[0])\n",
    "    plt.plot(time, signal[1])\n",
    "    plt.legend(['channel 1', 'channel 2'])\n",
    "    plt.title(title)\n",
    "    plt.grid()\n",
    "\n",
    "    plt.tight_layout()\n",
    "    plt.show()"
   ]
  },
  {
   "cell_type": "markdown",
   "metadata": {},
   "source": [
    "- Prepare training set dan test set"
   ]
  },
  {
   "cell_type": "code",
   "execution_count": 55,
   "metadata": {},
   "outputs": [],
   "source": [
    "denoised = 'LSTM-AE' # isi dengan 'Deep-AE', 'Conv-AE', 'LSTM-AE' untuk memilih sumber dataset dari hasil denoising tsb.\n",
    "\n",
    "train_df = train_Deep_AE_df if denoised == 'Deep-AE' else train_Conv_AE_df if denoised == 'Conv-AE' else train_LSTM_AE_df\n",
    "test_df = test_Deep_AE_df if denoised == 'Deep-AE' else test_Conv_AE_df if denoised == 'Conv-AE' else test_LSTM_AE_df"
   ]
  },
  {
   "cell_type": "code",
   "execution_count": 56,
   "metadata": {},
   "outputs": [],
   "source": [
    "target_train = train_df[600]\n",
    "target_test = test_df[600]\n",
    "y_train=to_categorical(target_train)\n",
    "y_test=to_categorical(target_test)"
   ]
  },
  {
   "cell_type": "code",
   "execution_count": 57,
   "metadata": {},
   "outputs": [],
   "source": [
    "X_train=train_df.iloc[:,:600].values\n",
    "X_test=test_df.iloc[:,:600].values\n",
    "\n",
    "X_train = X_train.reshape(len(X_train), X_train.shape[1],1)\n",
    "X_test = X_test.reshape(len(X_test), X_test.shape[1],1)"
   ]
  },
  {
   "cell_type": "code",
   "execution_count": 58,
   "metadata": {},
   "outputs": [
    {
     "data": {
      "image/png": "[encoded data removed]",
      "text/plain": [
       "<Figure size 504x288 with 1 Axes>"
      ]
     },
     "metadata": {
      "needs_background": "light"
     },
     "output_type": "display_data"
    }
   ],
   "source": [
    "signal = np.reshape(X_train[0], (2, 300))\n",
    "\n",
    "plot_noised_signal(signal, title=\"Sequence Signal - Denoided by COnv AE\")"
   ]
  },
  {
   "cell_type": "markdown",
   "metadata": {},
   "source": [
    "## Building Convolutional Neural Network\n",
    "\n",
    "- Import Keras library"
   ]
  },
  {
   "cell_type": "code",
   "execution_count": 59,
   "metadata": {},
   "outputs": [],
   "source": [
    "from keras.utils.np_utils import to_categorical\n",
    "from keras.models import Sequential\n",
    "from keras.layers import Dense, Conv1D, MaxPool1D, Flatten, Dropout\n",
    "from keras.layers import Input\n",
    "from keras.models import Model\n",
    "from keras.layers.normalization import BatchNormalization\n",
    "from keras.callbacks import EarlyStopping, ModelCheckpoint\n",
    "\n",
    "import keras"
   ]
  },
  {
   "cell_type": "markdown",
   "metadata": {},
   "source": [
    "- Buat CNN Model dengan aritektur network : \n",
    "`CONV-POOL-CONV-POOL-CONV-POOL-FC`\n",
    "- CONV : 1D Convolutional Layer\n",
    "- POOL : MAX Pooling Layer\n",
    "- FC   : Dense Layer + Activation"
   ]
  },
  {
   "cell_type": "code",
   "execution_count": 60,
   "metadata": {},
   "outputs": [],
   "source": [
    "def cnn_model(max_len):\n",
    "    \n",
    "    model = Sequential()\n",
    "    \n",
    "    model.add(Conv1D(filters=64,\n",
    "                     kernel_size=6,\n",
    "                     activation='relu',\n",
    "                     input_shape=(max_len, 1)))\n",
    "    model.add(BatchNormalization())\n",
    "    model.add(MaxPool1D(pool_size=3,\n",
    "                        strides=2,\n",
    "                        padding='same'))\n",
    "    \n",
    "    \n",
    "    model.add(Conv1D(filters=64,\n",
    "                     kernel_size=6,\n",
    "                     activation='relu'))\n",
    "    model.add(BatchNormalization())\n",
    "    model.add(MaxPool1D(pool_size=2,\n",
    "                        strides=2,\n",
    "                        padding='same'))\n",
    "    \n",
    "    \n",
    "    model.add(Conv1D(filters=64,\n",
    "                     kernel_size=3,\n",
    "                     activation='relu'))\n",
    "    model.add(BatchNormalization())\n",
    "    model.add(MaxPool1D(pool_size=2,\n",
    "                        strides=2,\n",
    "                        padding='same'))\n",
    "    \n",
    "    \n",
    "    # Fully Connected layer (FC)\n",
    "    model.add(Flatten())\n",
    "    model.add(Dense(64, \n",
    "                    activation='relu'))\n",
    "    model.add(Dense(32, \n",
    "                    activation='relu'))\n",
    "    model.add(Dense(2, \n",
    "                    activation='softmax'))\n",
    "              \n",
    "    model.summary()\n",
    "    model.compile(optimizer='adam', \n",
    "                  loss='categorical_crossentropy',\n",
    "                  metrics = ['accuracy'])\n",
    "\n",
    "    return model"
   ]
  },
  {
   "cell_type": "markdown",
   "metadata": {},
   "source": [
    "- sekarang kita akan melakukan proses training model dengan memanfaatkan `.fit()` pada model yang kita buat diatas.\n",
    "- selain itu kita gunakan juka teknik `EarlyStoping()` untuk menghentikan proses training jika terjadi divergensi pada validation data yang diakibatkan oleh overfitting. \n",
    "- pada `EarlyStoping()` kita gunakan parmeter `patience=8` yang artinya jika proses training untuk 8 epoch tidak terjadi peningkatan maka hentikan proses training."
   ]
  },
  {
   "cell_type": "code",
   "execution_count": 61,
   "metadata": {},
   "outputs": [],
   "source": [
    "def check_model(model_, x, y, x_val, y_val, epochs_, batch_size_):\n",
    "    callbacks = [EarlyStopping(monitor='val_loss', patience=3),\n",
    "                 ModelCheckpoint(filepath='best_model.h5', monitor='val_loss', save_best_only=True)]\n",
    "\n",
    "    hist = model_.fit(x, \n",
    "                      y,\n",
    "                      epochs=epochs_,\n",
    "                      callbacks=callbacks, \n",
    "                      batch_size=batch_size_,\n",
    "                      validation_data=(x_val,y_val))\n",
    "    model_.load_weights('best_model.h5')\n",
    "    return hist "
   ]
  },
  {
   "cell_type": "markdown",
   "metadata": {},
   "source": [
    "### Train Model CNN"
   ]
  },
  {
   "cell_type": "markdown",
   "metadata": {},
   "source": [
    "- jalankan proses training dengan `EPOCH` sebanyak 16 dan `BATCH_SIZE` sebesar 32"
   ]
  },
  {
   "cell_type": "code",
   "execution_count": null,
   "metadata": {},
   "outputs": [
    {
     "name": "stdout",
     "output_type": "stream",
     "text": [
      "_________________________________________________________________\n",
      "Layer (type)                 Output Shape              Param #   \n",
      "=================================================================\n",
      "conv1d_7 (Conv1D)            (None, 595, 64)           448       \n",
      "_________________________________________________________________\n",
      "batch_normalization_7 (Batch (None, 595, 64)           256       \n",
      "_________________________________________________________________\n",
      "max_pooling1d_7 (MaxPooling1 (None, 298, 64)           0         \n",
      "_________________________________________________________________\n",
      "conv1d_8 (Conv1D)            (None, 293, 64)           24640     \n",
      "_________________________________________________________________\n",
      "batch_normalization_8 (Batch (None, 293, 64)           256       \n",
      "_________________________________________________________________\n",
      "max_pooling1d_8 (MaxPooling1 (None, 147, 64)           0         \n",
      "_________________________________________________________________\n",
      "conv1d_9 (Conv1D)            (None, 145, 64)           12352     \n",
      "_________________________________________________________________\n",
      "batch_normalization_9 (Batch (None, 145, 64)           256       \n",
      "_________________________________________________________________\n",
      "max_pooling1d_9 (MaxPooling1 (None, 73, 64)            0         \n",
      "_________________________________________________________________\n",
      "flatten_3 (Flatten)          (None, 4672)              0         \n",
      "_________________________________________________________________\n",
      "dense_7 (Dense)              (None, 64)                299072    \n",
      "_________________________________________________________________\n",
      "dense_8 (Dense)              (None, 32)                2080      \n",
      "_________________________________________________________________\n",
      "dense_9 (Dense)              (None, 2)                 66        \n",
      "=================================================================\n",
      "Total params: 339,426\n",
      "Trainable params: 339,042\n",
      "Non-trainable params: 384\n",
      "_________________________________________________________________\n",
      "Train on 33060 samples, validate on 12906 samples\n",
      "Epoch 1/16\n",
      "33060/33060 [==============================] - 98s 3ms/step - loss: 0.3636 - acc: 0.8431 - val_loss: 0.3658 - val_acc: 0.8381\n",
      "Epoch 2/16\n",
      "33060/33060 [==============================] - 95s 3ms/step - loss: 0.3050 - acc: 0.8709 - val_loss: 0.3326 - val_acc: 0.8589\n",
      "Epoch 3/16\n",
      "33060/33060 [==============================] - 95s 3ms/step - loss: 0.2753 - acc: 0.8833 - val_loss: 0.3233 - val_acc: 0.8614\n",
      "Epoch 4/16\n",
      "33060/33060 [==============================] - 95s 3ms/step - loss: 0.2614 - acc: 0.8888 - val_loss: 0.3159 - val_acc: 0.8583\n",
      "Epoch 5/16\n",
      "33060/33060 [==============================] - 96s 3ms/step - loss: 0.2428 - acc: 0.8954 - val_loss: 0.3253 - val_acc: 0.8578\n",
      "Epoch 6/16\n",
      "33060/33060 [==============================] - 95s 3ms/step - loss: 0.2279 - acc: 0.9036 - val_loss: 0.2971 - val_acc: 0.8735\n",
      "Epoch 7/16\n",
      "10688/33060 [========>.....................] - ETA: 57s - loss: 0.2144 - acc: 0.9108"
     ]
    }
   ],
   "source": [
    "max_len = X_train.shape[1]  \n",
    "\n",
    "EPOCHS = 16\n",
    "BATCH_SIZE = 32\n",
    "\n",
    "model = cnn_model(max_len)\n",
    "history=check_model(model, X_train,y_train,X_test,y_test, EPOCHS, BATCH_SIZE)"
   ]
  },
  {
   "cell_type": "markdown",
   "metadata": {},
   "source": [
    "- Save model"
   ]
  },
  {
   "cell_type": "code",
   "execution_count": 47,
   "metadata": {},
   "outputs": [],
   "source": [
    "model.save(\"CNN_Classification_model_%s.h5\" % denoised)"
   ]
  },
  {
   "cell_type": "markdown",
   "metadata": {},
   "source": [
    "- save model training history (log)"
   ]
  },
  {
   "cell_type": "code",
   "execution_count": 48,
   "metadata": {},
   "outputs": [],
   "source": [
    "pd.DataFrame.from_dict(history.history).to_csv('history_train_classif_cnn_denoising_%s.csv' % denoised,index=False)"
   ]
  },
  {
   "cell_type": "markdown",
   "metadata": {},
   "source": [
    "# Evaluate Model\n",
    "\n",
    "- Plot Accuracy vs Epochs\n",
    "- Plot Loss vs Epochs\n",
    "- Plot Confusion Matrix"
   ]
  },
  {
   "cell_type": "code",
   "execution_count": 49,
   "metadata": {},
   "outputs": [
    {
     "data": {
      "image/png": "[encoded data removed]",
      "text/plain": [
       "<Figure size 432x288 with 1 Axes>"
      ]
     },
     "metadata": {
      "needs_background": "light"
     },
     "output_type": "display_data"
    },
    {
     "data": {
      "image/png": "[encoded data removed]",
      "text/plain": [
       "<Figure size 432x288 with 1 Axes>"
      ]
     },
     "metadata": {
      "needs_background": "light"
     },
     "output_type": "display_data"
    }
   ],
   "source": [
    "def evaluate_model(history, X_test, y_test):\n",
    "    \n",
    "    fig1, ax_acc = plt.subplots()\n",
    "    plt.plot(history.history['acc'])\n",
    "    plt.plot(history.history['val_acc'])\n",
    "    plt.xlabel('Epoch')\n",
    "    plt.ylabel('Accuracy')\n",
    "    plt.title('Model - Accuracy')\n",
    "    plt.legend(['Training', 'Validation'], loc='lower right')\n",
    "    plt.grid()\n",
    "    plt.show()\n",
    "    \n",
    "    fig2, ax_loss = plt.subplots()\n",
    "    plt.plot(history.history['loss'])\n",
    "    plt.plot(history.history['val_loss'])\n",
    "    plt.xlabel('Epoch')\n",
    "    plt.ylabel('Loss')\n",
    "    plt.title('Model- Loss')\n",
    "    plt.legend(['Training', 'Validation'], loc='upper right')\n",
    "    plt.grid()\n",
    "    plt.show()\n",
    "\n",
    "evaluate_model(history, X_test, y_test)    "
   ]
  },
  {
   "cell_type": "markdown",
   "metadata": {},
   "source": [
    "- Dari hasil diatas kita bisa melihat jika akurasi training set = 0.99, sedangkan untuk akurasi validation set = 0.97\n",
    "- Untuk plot loss training set = 0.01 sedangkan untuk loss validation set = 0.13"
   ]
  },
  {
   "cell_type": "code",
   "execution_count": 50,
   "metadata": {},
   "outputs": [],
   "source": [
    "import itertools\n",
    "def plot_confusion_matrix(cm, classes,\n",
    "                          normalize=False,\n",
    "                          title='Confusion matrix',\n",
    "                          cmap=plt.cm.Blues):\n",
    "    if normalize:\n",
    "        cm = cm.astype('float') / cm.sum(axis=1)[:, np.newaxis]\n",
    "\n",
    "    plt.figure(figsize=(5, 5))\n",
    "    \n",
    "    plt.imshow(cm, interpolation='nearest', cmap=cmap)\n",
    "    plt.title(title)\n",
    "    plt.colorbar()\n",
    "    tick_marks = np.arange(len(classes))\n",
    "    plt.xticks(tick_marks, classes, rotation=45)\n",
    "    plt.yticks(tick_marks, classes)\n",
    "\n",
    "    fmt = '.2f' if normalize else 'd'\n",
    "    thresh = cm.max() / 2.\n",
    "    for i, j in itertools.product(range(cm.shape[0]), range(cm.shape[1])):\n",
    "        plt.text(j, i, format(cm[i, j], fmt),\n",
    "                 horizontalalignment=\"center\",\n",
    "                 color=\"white\" if cm[i, j] > thresh else \"black\")\n",
    "\n",
    "    plt.tight_layout()\n",
    "    plt.ylabel('True label')\n",
    "    plt.xlabel('Predicted label')\n",
    "    plt.show()"
   ]
  },
  {
   "cell_type": "code",
   "execution_count": 53,
   "metadata": {},
   "outputs": [
    {
     "data": {
      "image/png": "[encoded data removed]",
      "text/plain": [
       "<Figure size 360x360 with 2 Axes>"
      ]
     },
     "metadata": {
      "needs_background": "light"
     },
     "output_type": "display_data"
    }
   ],
   "source": [
    "# predict test data\n",
    "y_pred=model.predict(X_test)\n",
    "\n",
    "\n",
    "# Compute confusion matrix\n",
    "cnf_matrix = confusion_matrix(y_test.argmax(axis=1), y_pred.argmax(axis=1))\n",
    "np.set_printoptions(precision=2)\n",
    "\n",
    "\n",
    "# Plot non-normalized confusion matrix\n",
    "plot_confusion_matrix(cnf_matrix, classes=['AF', 'N'],normalize=True,\n",
    "                      title='Confusion matrix, with normalization')\n"
   ]
  },
  {
   "cell_type": "markdown",
   "metadata": {},
   "source": [
    "- dari hasil plot confusion matrix, dapat dilihat tiap kelas memiliki banyak TRUE POSITIVE predicted data\n",
    "- semakin gelap kebiruan menunjukan banyaknya hasil predicted label untuk true label tersebut"
   ]
  },
  {
   "cell_type": "code",
   "execution_count": 54,
   "metadata": {},
   "outputs": [
    {
     "name": "stdout",
     "output_type": "stream",
     "text": [
      "              precision    recall  f1-score   support\n",
      "\n",
      "          AF       0.94      0.94      0.94      6323\n",
      "           N       0.94      0.94      0.94      6583\n",
      "\n",
      "    accuracy                           0.94     12906\n",
      "   macro avg       0.94      0.94      0.94     12906\n",
      "weighted avg       0.94      0.94      0.94     12906\n",
      "\n"
     ]
    }
   ],
   "source": [
    "print(classification_report(y_test.argmax(axis=1), \n",
    "                            y_pred.argmax(axis=1), \n",
    "                            target_names=['AF', 'N']))"
   ]
  },
  {
   "cell_type": "markdown",
   "metadata": {},
   "source": [
    "- Jika kita lihat, nilai report untuk seluruh klas juga bagus, \n",
    "- Nilai recall dan precission juga tinggi, menunjukan model mampu memprediksi data dengan baik untuk seluruh data pada sclass tersebut "
   ]
  },
  {
   "cell_type": "code",
   "execution_count": null,
   "metadata": {},
   "outputs": [],
   "source": []
  }
 ],
 "metadata": {
  "kernelspec": {
   "display_name": "Python [conda env:GPU_ENV]",
   "language": "python",
   "name": "conda-env-GPU_ENV-py"
  },
  "language_info": {
   "codemirror_mode": {
    "name": "ipython",
    "version": 3
   },
   "file_extension": ".py",
   "mimetype": "text/x-python",
   "name": "python",
   "nbconvert_exporter": "python",
   "pygments_lexer": "ipython3",
   "version": "3.6.12"
  }
 },
 "nbformat": 4,
 "nbformat_minor": 4
}
